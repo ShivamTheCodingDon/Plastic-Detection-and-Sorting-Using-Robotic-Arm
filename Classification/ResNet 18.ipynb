{
 "cells": [
  {
   "cell_type": "code",
   "execution_count": 1,
   "id": "ca748d2a",
   "metadata": {},
   "outputs": [],
   "source": [
    "import pandas as pd\n",
    "import numpy as np \n",
    "import matplotlib.pyplot as plt\n",
    "from PIL import Image\n",
    "import torch\n",
    "import torch.nn as nn\n",
    "import torch.nn.functional as F\n",
    "from torch import nn\n",
    "from torchvision import datasets, transforms, models\n",
    "import os\n",
    "import time"
   ]
  },
  {
   "cell_type": "code",
   "execution_count": 2,
   "id": "ce241213",
   "metadata": {},
   "outputs": [],
   "source": [
    "device = torch.device(\"cuda:0\" if torch.cuda.is_available() else \"cpu\")"
   ]
  },
  {
   "cell_type": "code",
   "execution_count": 3,
   "id": "2bf6e53f",
   "metadata": {},
   "outputs": [
    {
     "data": {
      "text/plain": [
       "device(type='cuda', index=0)"
      ]
     },
     "execution_count": 3,
     "metadata": {},
     "output_type": "execute_result"
    }
   ],
   "source": [
    "device"
   ]
  },
  {
   "cell_type": "code",
   "execution_count": 4,
   "id": "4582740d",
   "metadata": {},
   "outputs": [],
   "source": [
    "transform_train = transforms.Compose([\n",
    "    transforms.Resize((120, 120)),\n",
    "    transforms.RandomHorizontalFlip(),\n",
    "    transforms.RandomAffine(0, shear=10, scale=(0.8, 1.2)),\n",
    "    transforms.ColorJitter(brightness=0.5, contrast=0.6, saturation=0.5),\n",
    "    transforms.ToTensor(),\n",
    "    transforms.Normalize((0.5,), (0.5,))\n",
    "])\n",
    "\n",
    "transform = transforms.Compose([\n",
    "    transforms.Resize((120, 120)),\n",
    "    transforms.ToTensor(),\n",
    "    transforms.Normalize((0.5,), (0.5,))\n",
    "])\n",
    "\n",
    "training_dataset = datasets.ImageFolder('train', transform=transform_train)\n",
    "validation_dataset = datasets.ImageFolder('val', transform=transform)\n",
    "\n",
    "training_loader = torch.utils.data.DataLoader(training_dataset, batch_size=20, shuffle=True)\n",
    "validation_loader = torch.utils.data.DataLoader(validation_dataset, batch_size=20, shuffle=False)"
   ]
  },
  {
   "cell_type": "code",
   "execution_count": 5,
   "id": "4d2f7f2d",
   "metadata": {},
   "outputs": [],
   "source": [
    "def im_convert(tensor):\n",
    "  image = tensor.cpu().clone().detach().numpy()\n",
    "  image = image.transpose(1, 2, 0)\n",
    "  image = image * np.array((0.5, 0.5, 0.5)) + np.array((0.5, 0.5, 0.5))\n",
    "  image = image.clip(0, 1)\n",
    "  return image"
   ]
  },
  {
   "cell_type": "code",
   "execution_count": 6,
   "id": "95e2acff",
   "metadata": {},
   "outputs": [],
   "source": [
    "classes = ('cardboard', 'glass', 'metal', 'paper', 'plastic', 'trash')"
   ]
  },
  {
   "cell_type": "markdown",
   "id": "86fbfea5",
   "metadata": {},
   "source": [
    "## ResNet 18"
   ]
  },
  {
   "cell_type": "code",
   "execution_count": 55,
   "id": "3b1f7ad6",
   "metadata": {},
   "outputs": [],
   "source": [
    "class YourModel(nn.Module):\n",
    "    def __init__(self):\n",
    "        super(YourModel, self).__init__()\n",
    "        \n",
    "        self.conv1 = nn.Conv2d(in_channels=3, out_channels=64, kernel_size=9)\n",
    "        self.pool = nn.MaxPool2d(kernel_size=2, stride=2)\n",
    "        self.conv2 = nn.Conv2d(in_channels=64, out_channels=64, kernel_size=5)\n",
    "        self.conv3 = nn.Conv2d(in_channels=64, out_channels=64, kernel_size=5)\n",
    "        \n",
    "        # Adjusting the input size for the fully connected layer\n",
    "        self.fc_input_size = 64 * 11 * 11  # Updated based on the correct calculation\n",
    "\n",
    "        self.fc1 = nn.Linear(self.fc_input_size, 64)\n",
    "        self.fc2 = nn.Linear(64, 6)  # Updated for 6-class classification\n",
    "\n",
    "    def forward(self, x):\n",
    "        x = F.relu(self.conv1(x))\n",
    "        x = self.pool(x)\n",
    "        x = F.relu(self.conv2(x))\n",
    "        x = F.avg_pool2d(x, 2)\n",
    "        x = F.relu(self.conv3(x))\n",
    "        x = F.avg_pool2d(x, 2)\n",
    "        x = x.view(-1, self.fc_input_size)  # Corrected size based on the dimensions after the last pooling\n",
    "        x = F.relu(self.fc1(x))\n",
    "        x = F.relu(self.fc2(x))  # Updated for 6-class classification\n",
    "        x = F.softmax(x, dim=1)  # Updated for 6-class classification\n",
    "        return x"
   ]
  },
  {
   "cell_type": "code",
   "execution_count": 56,
   "id": "8e43876b",
   "metadata": {},
   "outputs": [],
   "source": [
    "# Create an instance of the custom model\n",
    "model = YourModel()"
   ]
  },
  {
   "cell_type": "code",
   "execution_count": 57,
   "id": "fe728e1e",
   "metadata": {},
   "outputs": [
    {
     "data": {
      "text/plain": [
       "YourModel(\n",
       "  (conv1): Conv2d(3, 64, kernel_size=(9, 9), stride=(1, 1))\n",
       "  (pool): MaxPool2d(kernel_size=2, stride=2, padding=0, dilation=1, ceil_mode=False)\n",
       "  (conv2): Conv2d(64, 64, kernel_size=(5, 5), stride=(1, 1))\n",
       "  (conv3): Conv2d(64, 64, kernel_size=(5, 5), stride=(1, 1))\n",
       "  (fc1): Linear(in_features=7744, out_features=64, bias=True)\n",
       "  (fc2): Linear(in_features=64, out_features=6, bias=True)\n",
       ")"
      ]
     },
     "execution_count": 57,
     "metadata": {},
     "output_type": "execute_result"
    }
   ],
   "source": [
    "model.to(device)"
   ]
  },
  {
   "cell_type": "code",
   "execution_count": 58,
   "id": "c13eff9d",
   "metadata": {},
   "outputs": [
    {
     "name": "stdout",
     "output_type": "stream",
     "text": [
      "Total parameters in the model: 716614\n"
     ]
    }
   ],
   "source": [
    "# Count the total number of parameters\n",
    "total_params = sum(p.numel() for p in model.parameters())\n",
    "print(f'Total parameters in the model: {total_params}')"
   ]
  },
  {
   "cell_type": "code",
   "execution_count": 59,
   "id": "5ba0c39a",
   "metadata": {},
   "outputs": [],
   "source": [
    "criterion = nn.CrossEntropyLoss()\n",
    "optimizer = torch.optim.Adam(model.parameters(), lr = 0.001)"
   ]
  },
  {
   "cell_type": "code",
   "execution_count": 60,
   "id": "d1ae7ab4",
   "metadata": {},
   "outputs": [
    {
     "name": "stdout",
     "output_type": "stream",
     "text": [
      "epoch: 1\n",
      "training loss: 0.0883, acc 0.2607\n",
      "validation loss: 0.0867, validation acc 0.2951\n",
      "time taken for epoch 1: 27.75 seconds\n",
      "epoch: 2\n",
      "training loss: 0.0877, acc 0.2856\n",
      "validation loss: 0.0864, validation acc 0.2819\n",
      "time taken for epoch 2: 13.93 seconds\n",
      "epoch: 3\n",
      "training loss: 0.0877, acc 0.2839\n",
      "validation loss: 0.0911, validation acc 0.2213\n",
      "time taken for epoch 3: 14.44 seconds\n",
      "epoch: 4\n",
      "training loss: 0.0894, acc 0.2624\n",
      "validation loss: 0.0868, validation acc 0.3030\n",
      "time taken for epoch 4: 14.24 seconds\n",
      "epoch: 5\n",
      "training loss: 0.0869, acc 0.3100\n",
      "validation loss: 0.0872, validation acc 0.3030\n",
      "time taken for epoch 5: 14.14 seconds\n",
      "epoch: 6\n",
      "training loss: 0.0881, acc 0.2862\n",
      "validation loss: 0.0867, validation acc 0.3004\n",
      "time taken for epoch 6: 14.29 seconds\n",
      "epoch: 7\n",
      "training loss: 0.0891, acc 0.2698\n",
      "validation loss: 0.0918, validation acc 0.2095\n",
      "time taken for epoch 7: 14.56 seconds\n",
      "epoch: 8\n",
      "training loss: 0.0904, acc 0.2466\n",
      "validation loss: 0.0903, validation acc 0.2411\n",
      "time taken for epoch 8: 14.14 seconds\n",
      "epoch: 9\n",
      "training loss: 0.0906, acc 0.2438\n",
      "validation loss: 0.0914, validation acc 0.2174\n",
      "time taken for epoch 9: 14.34 seconds\n",
      "epoch: 10\n",
      "training loss: 0.0907, acc 0.2415\n",
      "validation loss: 0.0926, validation acc 0.1937\n",
      "time taken for epoch 10: 14.88 seconds\n",
      "epoch: 11\n",
      "training loss: 0.0928, acc 0.1997\n",
      "validation loss: 0.0926, validation acc 0.1937\n",
      "time taken for epoch 11: 14.61 seconds\n",
      "Early stopping at epoch 11. No improvement in validation accuracy.\n",
      "Overall time taken for 25 epochs: 171.34 seconds\n",
      "Best epoch: 4, Best validation accuracy: 0.3030303120613098\n"
     ]
    }
   ],
   "source": [
    "epochs = 25\n",
    "running_loss_history = []\n",
    "running_corrects_history = []\n",
    "val_running_loss_history = []\n",
    "val_running_corrects_history = []\n",
    "\n",
    "best_val_acc = 0.0\n",
    "best_epoch = 0\n",
    "patience = 6  # Adjust this value based on your preference\n",
    "\n",
    "overall_start_time = time.time()  # Record the start time for the entire training process\n",
    "\n",
    "for e in range(epochs):\n",
    "  \n",
    "    start_time = time.time()  # Record the start time for the epoch\n",
    "\n",
    "    running_loss = 0.0\n",
    "    running_corrects = 0.0\n",
    "    val_running_loss = 0.0\n",
    "    val_running_corrects = 0.0\n",
    "\n",
    "    # Training loop\n",
    "    model.train()\n",
    "    for inputs, labels in training_loader:\n",
    "        inputs = inputs.to(device)\n",
    "        labels = labels.to(device)\n",
    "        outputs = model(inputs)\n",
    "        loss = criterion(outputs, labels)\n",
    "        \n",
    "        optimizer.zero_grad()\n",
    "        loss.backward()\n",
    "        optimizer.step()\n",
    "        \n",
    "        _, preds = torch.max(outputs, 1)\n",
    "        running_loss += loss.item()\n",
    "        running_corrects += torch.sum(preds == labels.data)\n",
    "\n",
    "    else:\n",
    "        with torch.no_grad():\n",
    "            # Validation loop\n",
    "            model.eval()\n",
    "            for val_inputs, val_labels in validation_loader:\n",
    "                val_inputs = val_inputs.to(device)\n",
    "                val_labels = val_labels.to(device)\n",
    "                val_outputs = model(val_inputs)\n",
    "                val_loss = criterion(val_outputs, val_labels)\n",
    "                \n",
    "                _, val_preds = torch.max(val_outputs, 1)\n",
    "                val_running_loss += val_loss.item()\n",
    "                val_running_corrects += torch.sum(val_preds == val_labels.data)\n",
    "            \n",
    "        epoch_loss = running_loss / len(training_loader.dataset)\n",
    "        epoch_acc = running_corrects.float() / len(training_loader.dataset)\n",
    "        running_loss_history.append(epoch_loss)\n",
    "        running_corrects_history.append(epoch_acc)\n",
    "        \n",
    "        val_epoch_loss = val_running_loss / len(validation_loader.dataset)\n",
    "        val_epoch_acc = val_running_corrects.float() / len(validation_loader.dataset)\n",
    "        val_running_loss_history.append(val_epoch_loss)\n",
    "        val_running_corrects_history.append(val_epoch_acc)\n",
    "        \n",
    "        end_time = time.time()  # Record the end time for the epoch\n",
    "        epoch_time = end_time - start_time  # Calculate the time taken for the epoch\n",
    "\n",
    "        print('epoch:', (e+1))\n",
    "        print('training loss: {:.4f}, acc {:.4f}'.format(epoch_loss, epoch_acc.item()))\n",
    "        print('validation loss: {:.4f}, validation acc {:.4f}'.format(val_epoch_loss, val_epoch_acc.item()))\n",
    "        print('time taken for epoch {}: {:.2f} seconds'.format(e+1, epoch_time))\n",
    "\n",
    "        # Check for early stopping\n",
    "        if val_epoch_acc > best_val_acc:\n",
    "            best_val_acc = val_epoch_acc\n",
    "            best_epoch = e + 1  # Epochs are 1-indexed\n",
    "\n",
    "        if e - best_epoch >= patience:\n",
    "            print(f'Early stopping at epoch {e+1}. No improvement in validation accuracy.')\n",
    "            break\n",
    "\n",
    "overall_end_time = time.time()  # Record the end time for the entire training process\n",
    "overall_time = overall_end_time - overall_start_time  # Calculate the overall time taken\n",
    "print('Overall time taken for {} epochs: {:.2f} seconds'.format(epochs, overall_time))\n",
    "print(f'Best epoch: {best_epoch}, Best validation accuracy: {best_val_acc.item()}')"
   ]
  },
  {
   "cell_type": "code",
   "execution_count": 61,
   "id": "caf7afbc",
   "metadata": {},
   "outputs": [
    {
     "data": {
      "image/png": "[encoded data removed]",
      "text/plain": [
       "<Figure size 640x480 with 1 Axes>"
      ]
     },
     "metadata": {},
     "output_type": "display_data"
    }
   ],
   "source": [
    "plt.plot(running_loss_history, label='training loss')\n",
    "plt.plot(val_running_loss_history, label='validation loss')\n",
    "plt.legend()\n",
    "plt.show()"
   ]
  },
  {
   "cell_type": "code",
   "execution_count": 62,
   "id": "9b849b30",
   "metadata": {},
   "outputs": [
    {
     "data": {
      "image/png": "[encoded data removed]",
      "text/plain": [
       "<Figure size 640x480 with 1 Axes>"
      ]
     },
     "metadata": {},
     "output_type": "display_data"
    }
   ],
   "source": [
    "# Convert tensors to NumPy arrays and then to Python lists\n",
    "running_corrects_history_list = [tensor.item() for tensor in running_corrects_history]\n",
    "val_running_corrects_history_list = [tensor.item() for tensor in val_running_corrects_history]\n",
    "\n",
    "# Plotting accuracy curves\n",
    "plt.plot(running_corrects_history_list, label='training accuracy')\n",
    "plt.plot(val_running_corrects_history_list, label='validation accuracy')\n",
    "plt.legend()\n",
    "plt.show()"
   ]
  },
  {
   "cell_type": "code",
   "execution_count": 16,
   "id": "dbb5199c",
   "metadata": {},
   "outputs": [],
   "source": [
    "# Initialize empty lists to store true labels and predicted labels\n",
    "all_labels = []\n",
    "all_preds = []\n",
    "\n",
    "for inputs, labels in training_loader:\n",
    "    inputs = inputs.to(device)\n",
    "    labels = labels.to(device)\n",
    "    outputs = model(inputs)\n",
    "    \n",
    "    _, preds = torch.max(outputs, 1)\n",
    "    \n",
    "    all_labels.extend(labels.cpu().numpy())\n",
    "    all_preds.extend(preds.cpu().numpy())"
   ]
  },
  {
   "cell_type": "code",
   "execution_count": 17,
   "id": "1fa2d16d",
   "metadata": {},
   "outputs": [
    {
     "ename": "NameError",
     "evalue": "name 'confusion_matrix' is not defined",
     "output_type": "error",
     "traceback": [
      "\u001b[1;31m---------------------------------------------------------------------------\u001b[0m",
      "\u001b[1;31mNameError\u001b[0m                                 Traceback (most recent call last)",
      "Cell \u001b[1;32mIn[17], line 2\u001b[0m\n\u001b[0;32m      1\u001b[0m \u001b[38;5;66;03m# Calculate the confusion matrix\u001b[39;00m\n\u001b[1;32m----> 2\u001b[0m conf_matrix \u001b[38;5;241m=\u001b[39m \u001b[43mconfusion_matrix\u001b[49m(all_labels, all_preds)\n\u001b[0;32m      4\u001b[0m \u001b[38;5;66;03m# Calculate precision and recall for each class\u001b[39;00m\n\u001b[0;32m      5\u001b[0m precision \u001b[38;5;241m=\u001b[39m precision_score(all_labels, all_preds, average\u001b[38;5;241m=\u001b[39m\u001b[38;5;28;01mNone\u001b[39;00m)\n",
      "\u001b[1;31mNameError\u001b[0m: name 'confusion_matrix' is not defined"
     ]
    }
   ],
   "source": [
    "# Calculate the confusion matrix\n",
    "conf_matrix = confusion_matrix(all_labels, all_preds)\n",
    "\n",
    "# Calculate precision and recall for each class\n",
    "precision = precision_score(all_labels, all_preds, average=None)\n",
    "recall = recall_score(all_labels, all_preds, average=None)\n",
    "\n",
    "# Print confusion matrix, precision, and recall for each class\n",
    "print('Confusion Matrix:')\n",
    "print(conf_matrix)\n",
    "\n",
    "# Print precision for each class\n",
    "print('\\nPrecision for each class:')\n",
    "for i in range(len(classes)):\n",
    "    print('{}: {:.4f}'.format(classes[i], precision[i]))\n",
    "\n",
    "# Print recall for each class\n",
    "print('\\nRecall for each class:')\n",
    "for i in range(len(classes)):\n",
    "    print('{}: {:.4f}'.format(classes[i], recall[i]))"
   ]
  },
  {
   "cell_type": "code",
   "execution_count": null,
   "id": "dc8fd696",
   "metadata": {},
   "outputs": [],
   "source": [
    "import seaborn as sns\n",
    "\n",
    "# Normalize the confusion matrix\n",
    "conf_matrix = conf_matrix.astype('float') / conf_matrix.sum(axis=1)[:, np.newaxis]\n",
    "\n",
    "# Create a heatmap using seaborn\n",
    "plt.figure(figsize=(8, 6))\n",
    "sns.heatmap(conf_matrix, annot=True, fmt=\".2f\", cmap=\"Blues\",\n",
    "            xticklabels=np.unique(all_labels),\n",
    "            yticklabels=np.unique(all_labels))\n",
    "plt.title(\"Normalized Confusion Matrix\")\n",
    "plt.xlabel(\"Predicted\")\n",
    "plt.ylabel(\"True\")\n",
    "plt.show()"
   ]
  },
  {
   "cell_type": "code",
   "execution_count": null,
   "id": "9a506853",
   "metadata": {},
   "outputs": [],
   "source": [
    "# Calculate overall precision\n",
    "overall_precision = precision_score(all_labels, all_preds, average='weighted')\n",
    "\n",
    "# Print overall precision\n",
    "print('\\nOverall Precision: {:.4f}'.format(overall_precision))"
   ]
  },
  {
   "cell_type": "code",
   "execution_count": null,
   "id": "09e05336",
   "metadata": {},
   "outputs": [],
   "source": [
    "# Calculate overall recall\n",
    "overall_recall = recall_score(all_labels, all_preds, average='weighted')\n",
    "\n",
    "# Calculate overall F1 score\n",
    "overall_f1 = f1_score(all_labels, all_preds, average='weighted')\n",
    "\n",
    "# Print overall recall and F1 score\n",
    "print('\\nOverall Recall: {:.4f}'.format(overall_recall))\n",
    "print('Overall F1 Score: {:.4f}'.format(overall_f1))"
   ]
  },
  {
   "cell_type": "code",
   "execution_count": null,
   "id": "08b9cb63",
   "metadata": {},
   "outputs": [],
   "source": [
    "# Initialize empty lists to store true labels and predicted labels\n",
    "all_labels_t = []\n",
    "all_preds_t = []\n",
    "\n",
    "for inputs, labels in validation_loader:\n",
    "    inputs = inputs.to(device)\n",
    "    labels = labels.to(device)\n",
    "    outputs = model(inputs)\n",
    "    \n",
    "    _, preds = torch.max(outputs, 1)\n",
    "    \n",
    "    all_labels_t.extend(labels.cpu().numpy())\n",
    "    all_preds_t.extend(preds.cpu().numpy())"
   ]
  },
  {
   "cell_type": "code",
   "execution_count": null,
   "id": "acd9137c",
   "metadata": {},
   "outputs": [],
   "source": [
    "# Calculate the confusion matrix\n",
    "conf_matrix = confusion_matrix(all_labels_t, all_preds_t)\n",
    "\n",
    "# Calculate precision and recall for each class\n",
    "precision = precision_score(all_labels_t, all_preds_t, average=None)\n",
    "recall = recall_score(all_labels_t, all_preds_t, average=None)\n",
    "\n",
    "# Print confusion matrix, precision, and recall for each class\n",
    "print('Confusion Matrix:')\n",
    "print(conf_matrix)\n",
    "\n",
    "# Print precision for each class\n",
    "print('\\nPrecision for each class:')\n",
    "for i in range(len(classes)):\n",
    "    print('{}: {:.4f}'.format(classes[i], precision[i]))\n",
    "\n",
    "# Print recall for each class\n",
    "print('\\nRecall for each class:')\n",
    "for i in range(len(classes)):\n",
    "    print('{}: {:.4f}'.format(classes[i], recall[i]))"
   ]
  },
  {
   "cell_type": "code",
   "execution_count": null,
   "id": "a2333299",
   "metadata": {},
   "outputs": [],
   "source": [
    "import seaborn as sns\n",
    "\n",
    "# Normalize the confusion matrix\n",
    "conf_matrix = conf_matrix.astype('float') / conf_matrix.sum(axis=1)[:, np.newaxis]\n",
    "\n",
    "# Create a heatmap using seaborn\n",
    "plt.figure(figsize=(8, 6))\n",
    "sns.heatmap(conf_matrix, annot=True, fmt=\".2f\", cmap=\"Blues\",\n",
    "            xticklabels=np.unique(all_labels_t),\n",
    "            yticklabels=np.unique(all_labels_t))\n",
    "plt.title(\"Normalized Confusion Matrix\")\n",
    "plt.xlabel(\"Predicted\")\n",
    "plt.ylabel(\"True\")\n",
    "plt.show()"
   ]
  },
  {
   "cell_type": "code",
   "execution_count": null,
   "id": "d333d86a",
   "metadata": {},
   "outputs": [],
   "source": [
    "# Calculate overall precision\n",
    "overall_precision = precision_score(all_labels_t, all_preds_t, average='weighted')\n",
    "\n",
    "# Print overall precision\n",
    "print('\\nOverall Precision: {:.4f}'.format(overall_precision))"
   ]
  },
  {
   "cell_type": "code",
   "execution_count": null,
   "id": "8cee50db",
   "metadata": {},
   "outputs": [],
   "source": [
    "# Calculate overall recall\n",
    "overall_recall = recall_score(all_labels_t, all_preds_t, average='weighted')\n",
    "\n",
    "# Calculate overall F1 score\n",
    "overall_f1 = f1_score(all_labels_t, all_preds_t, average='weighted')\n",
    "\n",
    "# Print overall recall and F1 score\n",
    "print('\\nOverall Recall: {:.4f}'.format(overall_recall))\n",
    "print('Overall F1 Score: {:.4f}'.format(overall_f1))"
   ]
  },
  {
   "cell_type": "code",
   "execution_count": null,
   "id": "6480107a",
   "metadata": {},
   "outputs": [],
   "source": []
  }
 ],
 "metadata": {
  "kernelspec": {
   "display_name": "mygpu",
   "language": "python",
   "name": "mygpu"
  },
  "language_info": {
   "codemirror_mode": {
    "name": "ipython",
    "version": 3
   },
   "file_extension": ".py",
   "mimetype": "text/x-python",
   "name": "python",
   "nbconvert_exporter": "python",
   "pygments_lexer": "ipython3",
   "version": "3.11.5"
  }
 },
 "nbformat": 4,
 "nbformat_minor": 5
}
