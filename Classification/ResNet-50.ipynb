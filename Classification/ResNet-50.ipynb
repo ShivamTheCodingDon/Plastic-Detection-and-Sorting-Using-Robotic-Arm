{
 "cells": [
  {
   "cell_type": "code",
   "execution_count": 1,
   "id": "e8b9abe7",
   "metadata": {},
   "outputs": [],
   "source": [
    "import pandas as pd\n",
    "import numpy as np \n",
    "import matplotlib.pyplot as plt\n",
    "from PIL import Image\n",
    "import torch\n",
    "import torch.nn as nn\n",
    "import torch.nn.functional as F\n",
    "from torch import nn\n",
    "from torch.autograd import Variable\n",
    "from torch.cuda.amp import autocast, GradScaler\n",
    "from torchvision import datasets, transforms, models\n",
    "import os\n",
    "import time"
   ]
  },
  {
   "cell_type": "code",
   "execution_count": 2,
   "id": "7b7cf7f2",
   "metadata": {},
   "outputs": [],
   "source": [
    "device = torch.device(\"cuda:0\" if torch.cuda.is_available() else \"cpu\")"
   ]
  },
  {
   "cell_type": "code",
   "execution_count": 3,
   "id": "4dfac1fc",
   "metadata": {},
   "outputs": [
    {
     "data": {
      "text/plain": [
       "device(type='cuda', index=0)"
      ]
     },
     "execution_count": 3,
     "metadata": {},
     "output_type": "execute_result"
    }
   ],
   "source": [
    "device"
   ]
  },
  {
   "cell_type": "code",
   "execution_count": 4,
   "id": "46d4f0a2",
   "metadata": {},
   "outputs": [],
   "source": [
    "mean = [0.485, 0.456, 0.406]\n",
    "std = [0.229, 0.224, 0.225]\n",
    "\n",
    "transform_train = transforms.Compose([\n",
    "    transforms.Resize((224, 224)),\n",
    "    transforms.RandomHorizontalFlip(),\n",
    "    transforms.RandomAffine(5, shear=10, scale=(0.8, 1.2)),\n",
    "    transforms.ColorJitter(brightness=0.5, contrast=0.6, saturation=0.5),\n",
    "    transforms.ToTensor(),\n",
    "    transforms.Normalize(mean, std)\n",
    "])\n",
    "\n",
    "transform = transforms.Compose([\n",
    "    transforms.Resize((224, 224)),\n",
    "    transforms.ToTensor(),\n",
    "    transforms.Normalize(mean, std)\n",
    "])\n",
    "\n",
    "training_dataset = datasets.ImageFolder('train', transform=transform_train)\n",
    "validation_dataset = datasets.ImageFolder('val', transform=transform)\n",
    "\n",
    "training_loader = torch.utils.data.DataLoader(training_dataset, batch_size=32, shuffle=True)\n",
    "validation_loader = torch.utils.data.DataLoader(validation_dataset, batch_size=32, shuffle=False)"
   ]
  },
  {
   "cell_type": "code",
   "execution_count": 5,
   "id": "e728db86",
   "metadata": {},
   "outputs": [
    {
     "name": "stdout",
     "output_type": "stream",
     "text": [
      "1768\n",
      "759\n"
     ]
    }
   ],
   "source": [
    "print(len(training_dataset))\n",
    "print(len(validation_dataset))"
   ]
  },
  {
   "cell_type": "code",
   "execution_count": 6,
   "id": "45bd4dfa",
   "metadata": {},
   "outputs": [],
   "source": [
    "def im_convert(tensor, mean=[0.485, 0.456, 0.406], std=[0.229, 0.224, 0.225]):\n",
    "    image = tensor.cpu().clone().detach().numpy()\n",
    "    image = image.transpose(1, 2, 0)\n",
    "    image = image * np.array(std) + np.array(mean)\n",
    "    image = image.clip(0, 1)\n",
    "    return image"
   ]
  },
  {
   "cell_type": "code",
   "execution_count": 7,
   "id": "ef001f66",
   "metadata": {},
   "outputs": [],
   "source": [
    "classes = ('cardboard', 'glass', 'metal', 'paper', 'plastic', 'trash')"
   ]
  },
  {
   "cell_type": "markdown",
   "id": "66ffcbee",
   "metadata": {},
   "source": [
    "## ResNet-50"
   ]
  },
  {
   "cell_type": "code",
   "execution_count": 8,
   "id": "4df6badf",
   "metadata": {},
   "outputs": [
    {
     "name": "stderr",
     "output_type": "stream",
     "text": [
      "D:\\A1\\archive\\Jupyter\\envs\\mygpu\\Lib\\site-packages\\torchvision\\models\\_utils.py:208: UserWarning: The parameter 'pretrained' is deprecated since 0.13 and may be removed in the future, please use 'weights' instead.\n",
      "  warnings.warn(\n",
      "D:\\A1\\archive\\Jupyter\\envs\\mygpu\\Lib\\site-packages\\torchvision\\models\\_utils.py:223: UserWarning: Arguments other than a weight enum or `None` for 'weights' are deprecated since 0.13 and may be removed in the future. The current behavior is equivalent to passing `weights=ResNet50_Weights.IMAGENET1K_V1`. You can also use `weights=ResNet50_Weights.DEFAULT` to get the most up-to-date weights.\n",
      "  warnings.warn(msg)\n"
     ]
    }
   ],
   "source": [
    "# Load the pre-trained ResNet model\n",
    "model = models.resnet50(pretrained=True)"
   ]
  },
  {
   "cell_type": "code",
   "execution_count": 9,
   "id": "ca5e3b46",
   "metadata": {},
   "outputs": [],
   "source": [
    "# Modify the last fully connected layer to have an output size of 6\n",
    "in_features = model.fc.in_features\n",
    "model.fc = torch.nn.Linear(in_features, 6)"
   ]
  },
  {
   "cell_type": "code",
   "execution_count": 10,
   "id": "0c3bed91",
   "metadata": {},
   "outputs": [
    {
     "data": {
      "text/plain": [
       "ResNet(\n",
       "  (conv1): Conv2d(3, 64, kernel_size=(7, 7), stride=(2, 2), padding=(3, 3), bias=False)\n",
       "  (bn1): BatchNorm2d(64, eps=1e-05, momentum=0.1, affine=True, track_running_stats=True)\n",
       "  (relu): ReLU(inplace=True)\n",
       "  (maxpool): MaxPool2d(kernel_size=3, stride=2, padding=1, dilation=1, ceil_mode=False)\n",
       "  (layer1): Sequential(\n",
       "    (0): Bottleneck(\n",
       "      (conv1): Conv2d(64, 64, kernel_size=(1, 1), stride=(1, 1), bias=False)\n",
       "      (bn1): BatchNorm2d(64, eps=1e-05, momentum=0.1, affine=True, track_running_stats=True)\n",
       "      (conv2): Conv2d(64, 64, kernel_size=(3, 3), stride=(1, 1), padding=(1, 1), bias=False)\n",
       "      (bn2): BatchNorm2d(64, eps=1e-05, momentum=0.1, affine=True, track_running_stats=True)\n",
       "      (conv3): Conv2d(64, 256, kernel_size=(1, 1), stride=(1, 1), bias=False)\n",
       "      (bn3): BatchNorm2d(256, eps=1e-05, momentum=0.1, affine=True, track_running_stats=True)\n",
       "      (relu): ReLU(inplace=True)\n",
       "      (downsample): Sequential(\n",
       "        (0): Conv2d(64, 256, kernel_size=(1, 1), stride=(1, 1), bias=False)\n",
       "        (1): BatchNorm2d(256, eps=1e-05, momentum=0.1, affine=True, track_running_stats=True)\n",
       "      )\n",
       "    )\n",
       "    (1): Bottleneck(\n",
       "      (conv1): Conv2d(256, 64, kernel_size=(1, 1), stride=(1, 1), bias=False)\n",
       "      (bn1): BatchNorm2d(64, eps=1e-05, momentum=0.1, affine=True, track_running_stats=True)\n",
       "      (conv2): Conv2d(64, 64, kernel_size=(3, 3), stride=(1, 1), padding=(1, 1), bias=False)\n",
       "      (bn2): BatchNorm2d(64, eps=1e-05, momentum=0.1, affine=True, track_running_stats=True)\n",
       "      (conv3): Conv2d(64, 256, kernel_size=(1, 1), stride=(1, 1), bias=False)\n",
       "      (bn3): BatchNorm2d(256, eps=1e-05, momentum=0.1, affine=True, track_running_stats=True)\n",
       "      (relu): ReLU(inplace=True)\n",
       "    )\n",
       "    (2): Bottleneck(\n",
       "      (conv1): Conv2d(256, 64, kernel_size=(1, 1), stride=(1, 1), bias=False)\n",
       "      (bn1): BatchNorm2d(64, eps=1e-05, momentum=0.1, affine=True, track_running_stats=True)\n",
       "      (conv2): Conv2d(64, 64, kernel_size=(3, 3), stride=(1, 1), padding=(1, 1), bias=False)\n",
       "      (bn2): BatchNorm2d(64, eps=1e-05, momentum=0.1, affine=True, track_running_stats=True)\n",
       "      (conv3): Conv2d(64, 256, kernel_size=(1, 1), stride=(1, 1), bias=False)\n",
       "      (bn3): BatchNorm2d(256, eps=1e-05, momentum=0.1, affine=True, track_running_stats=True)\n",
       "      (relu): ReLU(inplace=True)\n",
       "    )\n",
       "  )\n",
       "  (layer2): Sequential(\n",
       "    (0): Bottleneck(\n",
       "      (conv1): Conv2d(256, 128, kernel_size=(1, 1), stride=(1, 1), bias=False)\n",
       "      (bn1): BatchNorm2d(128, eps=1e-05, momentum=0.1, affine=True, track_running_stats=True)\n",
       "      (conv2): Conv2d(128, 128, kernel_size=(3, 3), stride=(2, 2), padding=(1, 1), bias=False)\n",
       "      (bn2): BatchNorm2d(128, eps=1e-05, momentum=0.1, affine=True, track_running_stats=True)\n",
       "      (conv3): Conv2d(128, 512, kernel_size=(1, 1), stride=(1, 1), bias=False)\n",
       "      (bn3): BatchNorm2d(512, eps=1e-05, momentum=0.1, affine=True, track_running_stats=True)\n",
       "      (relu): ReLU(inplace=True)\n",
       "      (downsample): Sequential(\n",
       "        (0): Conv2d(256, 512, kernel_size=(1, 1), stride=(2, 2), bias=False)\n",
       "        (1): BatchNorm2d(512, eps=1e-05, momentum=0.1, affine=True, track_running_stats=True)\n",
       "      )\n",
       "    )\n",
       "    (1): Bottleneck(\n",
       "      (conv1): Conv2d(512, 128, kernel_size=(1, 1), stride=(1, 1), bias=False)\n",
       "      (bn1): BatchNorm2d(128, eps=1e-05, momentum=0.1, affine=True, track_running_stats=True)\n",
       "      (conv2): Conv2d(128, 128, kernel_size=(3, 3), stride=(1, 1), padding=(1, 1), bias=False)\n",
       "      (bn2): BatchNorm2d(128, eps=1e-05, momentum=0.1, affine=True, track_running_stats=True)\n",
       "      (conv3): Conv2d(128, 512, kernel_size=(1, 1), stride=(1, 1), bias=False)\n",
       "      (bn3): BatchNorm2d(512, eps=1e-05, momentum=0.1, affine=True, track_running_stats=True)\n",
       "      (relu): ReLU(inplace=True)\n",
       "    )\n",
       "    (2): Bottleneck(\n",
       "      (conv1): Conv2d(512, 128, kernel_size=(1, 1), stride=(1, 1), bias=False)\n",
       "      (bn1): BatchNorm2d(128, eps=1e-05, momentum=0.1, affine=True, track_running_stats=True)\n",
       "      (conv2): Conv2d(128, 128, kernel_size=(3, 3), stride=(1, 1), padding=(1, 1), bias=False)\n",
       "      (bn2): BatchNorm2d(128, eps=1e-05, momentum=0.1, affine=True, track_running_stats=True)\n",
       "      (conv3): Conv2d(128, 512, kernel_size=(1, 1), stride=(1, 1), bias=False)\n",
       "      (bn3): BatchNorm2d(512, eps=1e-05, momentum=0.1, affine=True, track_running_stats=True)\n",
       "      (relu): ReLU(inplace=True)\n",
       "    )\n",
       "    (3): Bottleneck(\n",
       "      (conv1): Conv2d(512, 128, kernel_size=(1, 1), stride=(1, 1), bias=False)\n",
       "      (bn1): BatchNorm2d(128, eps=1e-05, momentum=0.1, affine=True, track_running_stats=True)\n",
       "      (conv2): Conv2d(128, 128, kernel_size=(3, 3), stride=(1, 1), padding=(1, 1), bias=False)\n",
       "      (bn2): BatchNorm2d(128, eps=1e-05, momentum=0.1, affine=True, track_running_stats=True)\n",
       "      (conv3): Conv2d(128, 512, kernel_size=(1, 1), stride=(1, 1), bias=False)\n",
       "      (bn3): BatchNorm2d(512, eps=1e-05, momentum=0.1, affine=True, track_running_stats=True)\n",
       "      (relu): ReLU(inplace=True)\n",
       "    )\n",
       "  )\n",
       "  (layer3): Sequential(\n",
       "    (0): Bottleneck(\n",
       "      (conv1): Conv2d(512, 256, kernel_size=(1, 1), stride=(1, 1), bias=False)\n",
       "      (bn1): BatchNorm2d(256, eps=1e-05, momentum=0.1, affine=True, track_running_stats=True)\n",
       "      (conv2): Conv2d(256, 256, kernel_size=(3, 3), stride=(2, 2), padding=(1, 1), bias=False)\n",
       "      (bn2): BatchNorm2d(256, eps=1e-05, momentum=0.1, affine=True, track_running_stats=True)\n",
       "      (conv3): Conv2d(256, 1024, kernel_size=(1, 1), stride=(1, 1), bias=False)\n",
       "      (bn3): BatchNorm2d(1024, eps=1e-05, momentum=0.1, affine=True, track_running_stats=True)\n",
       "      (relu): ReLU(inplace=True)\n",
       "      (downsample): Sequential(\n",
       "        (0): Conv2d(512, 1024, kernel_size=(1, 1), stride=(2, 2), bias=False)\n",
       "        (1): BatchNorm2d(1024, eps=1e-05, momentum=0.1, affine=True, track_running_stats=True)\n",
       "      )\n",
       "    )\n",
       "    (1): Bottleneck(\n",
       "      (conv1): Conv2d(1024, 256, kernel_size=(1, 1), stride=(1, 1), bias=False)\n",
       "      (bn1): BatchNorm2d(256, eps=1e-05, momentum=0.1, affine=True, track_running_stats=True)\n",
       "      (conv2): Conv2d(256, 256, kernel_size=(3, 3), stride=(1, 1), padding=(1, 1), bias=False)\n",
       "      (bn2): BatchNorm2d(256, eps=1e-05, momentum=0.1, affine=True, track_running_stats=True)\n",
       "      (conv3): Conv2d(256, 1024, kernel_size=(1, 1), stride=(1, 1), bias=False)\n",
       "      (bn3): BatchNorm2d(1024, eps=1e-05, momentum=0.1, affine=True, track_running_stats=True)\n",
       "      (relu): ReLU(inplace=True)\n",
       "    )\n",
       "    (2): Bottleneck(\n",
       "      (conv1): Conv2d(1024, 256, kernel_size=(1, 1), stride=(1, 1), bias=False)\n",
       "      (bn1): BatchNorm2d(256, eps=1e-05, momentum=0.1, affine=True, track_running_stats=True)\n",
       "      (conv2): Conv2d(256, 256, kernel_size=(3, 3), stride=(1, 1), padding=(1, 1), bias=False)\n",
       "      (bn2): BatchNorm2d(256, eps=1e-05, momentum=0.1, affine=True, track_running_stats=True)\n",
       "      (conv3): Conv2d(256, 1024, kernel_size=(1, 1), stride=(1, 1), bias=False)\n",
       "      (bn3): BatchNorm2d(1024, eps=1e-05, momentum=0.1, affine=True, track_running_stats=True)\n",
       "      (relu): ReLU(inplace=True)\n",
       "    )\n",
       "    (3): Bottleneck(\n",
       "      (conv1): Conv2d(1024, 256, kernel_size=(1, 1), stride=(1, 1), bias=False)\n",
       "      (bn1): BatchNorm2d(256, eps=1e-05, momentum=0.1, affine=True, track_running_stats=True)\n",
       "      (conv2): Conv2d(256, 256, kernel_size=(3, 3), stride=(1, 1), padding=(1, 1), bias=False)\n",
       "      (bn2): BatchNorm2d(256, eps=1e-05, momentum=0.1, affine=True, track_running_stats=True)\n",
       "      (conv3): Conv2d(256, 1024, kernel_size=(1, 1), stride=(1, 1), bias=False)\n",
       "      (bn3): BatchNorm2d(1024, eps=1e-05, momentum=0.1, affine=True, track_running_stats=True)\n",
       "      (relu): ReLU(inplace=True)\n",
       "    )\n",
       "    (4): Bottleneck(\n",
       "      (conv1): Conv2d(1024, 256, kernel_size=(1, 1), stride=(1, 1), bias=False)\n",
       "      (bn1): BatchNorm2d(256, eps=1e-05, momentum=0.1, affine=True, track_running_stats=True)\n",
       "      (conv2): Conv2d(256, 256, kernel_size=(3, 3), stride=(1, 1), padding=(1, 1), bias=False)\n",
       "      (bn2): BatchNorm2d(256, eps=1e-05, momentum=0.1, affine=True, track_running_stats=True)\n",
       "      (conv3): Conv2d(256, 1024, kernel_size=(1, 1), stride=(1, 1), bias=False)\n",
       "      (bn3): BatchNorm2d(1024, eps=1e-05, momentum=0.1, affine=True, track_running_stats=True)\n",
       "      (relu): ReLU(inplace=True)\n",
       "    )\n",
       "    (5): Bottleneck(\n",
       "      (conv1): Conv2d(1024, 256, kernel_size=(1, 1), stride=(1, 1), bias=False)\n",
       "      (bn1): BatchNorm2d(256, eps=1e-05, momentum=0.1, affine=True, track_running_stats=True)\n",
       "      (conv2): Conv2d(256, 256, kernel_size=(3, 3), stride=(1, 1), padding=(1, 1), bias=False)\n",
       "      (bn2): BatchNorm2d(256, eps=1e-05, momentum=0.1, affine=True, track_running_stats=True)\n",
       "      (conv3): Conv2d(256, 1024, kernel_size=(1, 1), stride=(1, 1), bias=False)\n",
       "      (bn3): BatchNorm2d(1024, eps=1e-05, momentum=0.1, affine=True, track_running_stats=True)\n",
       "      (relu): ReLU(inplace=True)\n",
       "    )\n",
       "  )\n",
       "  (layer4): Sequential(\n",
       "    (0): Bottleneck(\n",
       "      (conv1): Conv2d(1024, 512, kernel_size=(1, 1), stride=(1, 1), bias=False)\n",
       "      (bn1): BatchNorm2d(512, eps=1e-05, momentum=0.1, affine=True, track_running_stats=True)\n",
       "      (conv2): Conv2d(512, 512, kernel_size=(3, 3), stride=(2, 2), padding=(1, 1), bias=False)\n",
       "      (bn2): BatchNorm2d(512, eps=1e-05, momentum=0.1, affine=True, track_running_stats=True)\n",
       "      (conv3): Conv2d(512, 2048, kernel_size=(1, 1), stride=(1, 1), bias=False)\n",
       "      (bn3): BatchNorm2d(2048, eps=1e-05, momentum=0.1, affine=True, track_running_stats=True)\n",
       "      (relu): ReLU(inplace=True)\n",
       "      (downsample): Sequential(\n",
       "        (0): Conv2d(1024, 2048, kernel_size=(1, 1), stride=(2, 2), bias=False)\n",
       "        (1): BatchNorm2d(2048, eps=1e-05, momentum=0.1, affine=True, track_running_stats=True)\n",
       "      )\n",
       "    )\n",
       "    (1): Bottleneck(\n",
       "      (conv1): Conv2d(2048, 512, kernel_size=(1, 1), stride=(1, 1), bias=False)\n",
       "      (bn1): BatchNorm2d(512, eps=1e-05, momentum=0.1, affine=True, track_running_stats=True)\n",
       "      (conv2): Conv2d(512, 512, kernel_size=(3, 3), stride=(1, 1), padding=(1, 1), bias=False)\n",
       "      (bn2): BatchNorm2d(512, eps=1e-05, momentum=0.1, affine=True, track_running_stats=True)\n",
       "      (conv3): Conv2d(512, 2048, kernel_size=(1, 1), stride=(1, 1), bias=False)\n",
       "      (bn3): BatchNorm2d(2048, eps=1e-05, momentum=0.1, affine=True, track_running_stats=True)\n",
       "      (relu): ReLU(inplace=True)\n",
       "    )\n",
       "    (2): Bottleneck(\n",
       "      (conv1): Conv2d(2048, 512, kernel_size=(1, 1), stride=(1, 1), bias=False)\n",
       "      (bn1): BatchNorm2d(512, eps=1e-05, momentum=0.1, affine=True, track_running_stats=True)\n",
       "      (conv2): Conv2d(512, 512, kernel_size=(3, 3), stride=(1, 1), padding=(1, 1), bias=False)\n",
       "      (bn2): BatchNorm2d(512, eps=1e-05, momentum=0.1, affine=True, track_running_stats=True)\n",
       "      (conv3): Conv2d(512, 2048, kernel_size=(1, 1), stride=(1, 1), bias=False)\n",
       "      (bn3): BatchNorm2d(2048, eps=1e-05, momentum=0.1, affine=True, track_running_stats=True)\n",
       "      (relu): ReLU(inplace=True)\n",
       "    )\n",
       "  )\n",
       "  (avgpool): AdaptiveAvgPool2d(output_size=(1, 1))\n",
       "  (fc): Linear(in_features=2048, out_features=6, bias=True)\n",
       ")"
      ]
     },
     "execution_count": 10,
     "metadata": {},
     "output_type": "execute_result"
    }
   ],
   "source": [
    "# Set the model to evaluation mode\n",
    "model.eval()"
   ]
  },
  {
   "cell_type": "code",
   "execution_count": 11,
   "id": "22361a71",
   "metadata": {},
   "outputs": [
    {
     "name": "stdout",
     "output_type": "stream",
     "text": [
      "Total parameters in the model: 23520326\n"
     ]
    }
   ],
   "source": [
    "# Count the total number of parameters\n",
    "total_params = sum(p.numel() for p in model.parameters())\n",
    "print(f'Total parameters in the model: {total_params}')"
   ]
  },
  {
   "cell_type": "code",
   "execution_count": 12,
   "id": "dc8fe054",
   "metadata": {},
   "outputs": [],
   "source": [
    "# Move the model to the GPU\n",
    "model = model.to(device)"
   ]
  },
  {
   "cell_type": "code",
   "execution_count": 13,
   "id": "4643683e",
   "metadata": {},
   "outputs": [],
   "source": [
    "# criterion = nn.CrossEntropyLoss()\n",
    "# optimizer = torch.optim.Adam(model.parameters(), lr = 0.0001,  weight_decay = 1e-4)"
   ]
  },
  {
   "cell_type": "code",
   "execution_count": 14,
   "id": "d1f82d7e",
   "metadata": {},
   "outputs": [],
   "source": [
    "criterion = nn.CrossEntropyLoss()\n",
    "optimizer = torch.optim.Adam(model.parameters(), lr = 0.001)"
   ]
  },
  {
   "cell_type": "code",
   "execution_count": 15,
   "id": "1b4e4297",
   "metadata": {},
   "outputs": [
    {
     "name": "stdout",
     "output_type": "stream",
     "text": [
      "epoch: 1\n",
      "training loss: 0.0476, acc 0.4310\n",
      "validation loss: 0.0461, validation acc 0.4796\n",
      "time taken for epoch 1: 108.69 seconds\n",
      "epoch: 2\n",
      "training loss: 0.0386, acc 0.5424\n",
      "validation loss: 0.0345, validation acc 0.6140\n",
      "time taken for epoch 2: 128.70 seconds\n",
      "epoch: 3\n",
      "training loss: 0.0361, acc 0.5560\n",
      "validation loss: 0.0292, validation acc 0.6693\n",
      "time taken for epoch 3: 133.85 seconds\n",
      "epoch: 4\n",
      "training loss: 0.0328, acc 0.6205\n",
      "validation loss: 0.0279, validation acc 0.6574\n",
      "time taken for epoch 4: 134.22 seconds\n",
      "epoch: 5\n",
      "training loss: 0.0298, acc 0.6533\n",
      "validation loss: 0.0461, validation acc 0.5679\n",
      "time taken for epoch 5: 135.82 seconds\n",
      "epoch: 6\n",
      "training loss: 0.0299, acc 0.6386\n",
      "validation loss: 0.0293, validation acc 0.6943\n",
      "time taken for epoch 6: 137.18 seconds\n",
      "epoch: 7\n",
      "training loss: 0.0266, acc 0.6923\n",
      "validation loss: 0.0227, validation acc 0.7339\n",
      "time taken for epoch 7: 136.81 seconds\n",
      "epoch: 8\n",
      "training loss: 0.0245, acc 0.7144\n",
      "validation loss: 0.0248, validation acc 0.7220\n",
      "time taken for epoch 8: 144.42 seconds\n",
      "epoch: 9\n",
      "training loss: 0.0237, acc 0.7257\n",
      "validation loss: 0.0342, validation acc 0.6574\n",
      "time taken for epoch 9: 144.43 seconds\n",
      "epoch: 10\n",
      "training loss: 0.0224, acc 0.7342\n",
      "validation loss: 0.0182, validation acc 0.8090\n",
      "time taken for epoch 10: 144.49 seconds\n",
      "epoch: 11\n",
      "training loss: 0.0214, acc 0.7455\n",
      "validation loss: 0.0308, validation acc 0.7009\n",
      "time taken for epoch 11: 144.46 seconds\n",
      "epoch: 12\n",
      "training loss: 0.0211, acc 0.7534\n",
      "validation loss: 0.0316, validation acc 0.6970\n",
      "time taken for epoch 12: 144.39 seconds\n",
      "epoch: 13\n",
      "training loss: 0.0189, acc 0.7817\n",
      "validation loss: 0.0226, validation acc 0.7470\n",
      "time taken for epoch 13: 144.69 seconds\n",
      "epoch: 14\n",
      "training loss: 0.0205, acc 0.7630\n",
      "validation loss: 0.0234, validation acc 0.7457\n",
      "time taken for epoch 14: 144.52 seconds\n",
      "epoch: 15\n",
      "training loss: 0.0175, acc 0.7958\n",
      "validation loss: 0.0400, validation acc 0.6667\n",
      "time taken for epoch 15: 144.01 seconds\n",
      "epoch: 16\n",
      "training loss: 0.0174, acc 0.7941\n",
      "validation loss: 0.0214, validation acc 0.7708\n",
      "time taken for epoch 16: 143.99 seconds\n"
     ]
    },
    {
     "ename": "KeyboardInterrupt",
     "evalue": "",
     "output_type": "error",
     "traceback": [
      "\u001b[1;31m---------------------------------------------------------------------------\u001b[0m",
      "\u001b[1;31mKeyboardInterrupt\u001b[0m                         Traceback (most recent call last)",
      "Cell \u001b[1;32mIn[15], line 34\u001b[0m\n\u001b[0;32m     31\u001b[0m     optimizer\u001b[38;5;241m.\u001b[39mstep()\n\u001b[0;32m     33\u001b[0m     _, preds \u001b[38;5;241m=\u001b[39m torch\u001b[38;5;241m.\u001b[39mmax(outputs, \u001b[38;5;241m1\u001b[39m)\n\u001b[1;32m---> 34\u001b[0m     running_loss \u001b[38;5;241m+\u001b[39m\u001b[38;5;241m=\u001b[39m \u001b[43mloss\u001b[49m\u001b[38;5;241;43m.\u001b[39;49m\u001b[43mitem\u001b[49m\u001b[43m(\u001b[49m\u001b[43m)\u001b[49m\n\u001b[0;32m     35\u001b[0m     running_corrects \u001b[38;5;241m+\u001b[39m\u001b[38;5;241m=\u001b[39m torch\u001b[38;5;241m.\u001b[39msum(preds \u001b[38;5;241m==\u001b[39m labels\u001b[38;5;241m.\u001b[39mdata)\n\u001b[0;32m     37\u001b[0m \u001b[38;5;28;01melse\u001b[39;00m:\n",
      "\u001b[1;31mKeyboardInterrupt\u001b[0m: "
     ]
    }
   ],
   "source": [
    "epochs = 40\n",
    "running_loss_history = []\n",
    "running_corrects_history = []\n",
    "val_running_loss_history = []\n",
    "val_running_corrects_history = []\n",
    "\n",
    "best_val_acc = 0.0\n",
    "best_epoch = 0\n",
    "patience = 20  # Adjust this value based on your preference\n",
    "\n",
    "overall_start_time = time.time()  # Record the start time for the entire training process\n",
    "\n",
    "for e in range(epochs):\n",
    "    start_time = time.time()  # Record the start time for the epoch\n",
    "\n",
    "    running_loss = 0.0\n",
    "    running_corrects = 0.0\n",
    "    val_running_loss = 0.0\n",
    "    val_running_corrects = 0.0\n",
    "\n",
    "    # Training loop\n",
    "    model.train()\n",
    "    for inputs, labels in training_loader:\n",
    "        inputs = inputs.to(device)\n",
    "        labels = labels.to(device)\n",
    "        outputs = model(inputs)\n",
    "        loss = criterion(outputs, labels)\n",
    "\n",
    "        optimizer.zero_grad()\n",
    "        loss.backward()\n",
    "        optimizer.step()\n",
    "\n",
    "        _, preds = torch.max(outputs, 1)\n",
    "        running_loss += loss.item()\n",
    "        running_corrects += torch.sum(preds == labels.data)\n",
    "\n",
    "    else:\n",
    "        with torch.no_grad():\n",
    "            # Validation loop\n",
    "            model.eval()\n",
    "            for val_inputs, val_labels in validation_loader:\n",
    "                val_inputs = val_inputs.to(device)\n",
    "                val_labels = val_labels.to(device)\n",
    "                val_outputs = model(val_inputs)\n",
    "                val_loss = criterion(val_outputs, val_labels)\n",
    "\n",
    "                _, val_preds = torch.max(val_outputs, 1)\n",
    "                val_running_loss += val_loss.item()\n",
    "                val_running_corrects += torch.sum(val_preds == val_labels.data)\n",
    "\n",
    "        epoch_loss = running_loss / len(training_loader.dataset)\n",
    "        epoch_acc = running_corrects.float() / len(training_loader.dataset)\n",
    "        running_loss_history.append(epoch_loss)\n",
    "        running_corrects_history.append(epoch_acc)\n",
    "\n",
    "        val_epoch_loss = val_running_loss / len(validation_loader.dataset)\n",
    "        val_epoch_acc = val_running_corrects.float() / len(validation_loader.dataset)\n",
    "        val_running_loss_history.append(val_epoch_loss)\n",
    "        val_running_corrects_history.append(val_epoch_acc)\n",
    "\n",
    "        end_time = time.time()  # Record the end time for the epoch\n",
    "        epoch_time = end_time - start_time  # Calculate the time taken for the epoch\n",
    "\n",
    "        print('epoch:', (e + 1))\n",
    "        print('training loss: {:.4f}, acc {:.4f}'.format(epoch_loss, epoch_acc.item()))\n",
    "        print('validation loss: {:.4f}, validation acc {:.4f}'.format(val_epoch_loss, val_epoch_acc.item()))\n",
    "        print('time taken for epoch {}: {:.2f} seconds'.format(e + 1, epoch_time))\n",
    "\n",
    "        # Check for early stopping\n",
    "        if val_epoch_acc > best_val_acc:\n",
    "            best_val_acc = val_epoch_acc\n",
    "            best_epoch = e + 1  # Epochs are 1-indexed\n",
    "\n",
    "            # Save the model weights when validation accuracy is at its maximum\n",
    "            torch.save(model.state_dict(), 'best_DenseNet121_weights.pth')\n",
    "\n",
    "        if e - best_epoch >= patience:\n",
    "            print(f'Early stopping at epoch {e + 1}. No improvement in validation accuracy.')\n",
    "            break\n",
    "\n",
    "overall_end_time = time.time()  # Record the end time for the entire training process\n",
    "overall_time = overall_end_time - overall_start_time  # Calculate the overall time taken\n",
    "print('Overall time taken for {} epochs: {:.2f} seconds'.format(epochs, overall_time))\n",
    "print(f'Best epoch: {best_epoch}, Best validation accuracy: {best_val_acc.item()}')"
   ]
  },
  {
   "cell_type": "code",
   "execution_count": null,
   "id": "329006d0",
   "metadata": {
    "scrolled": true
   },
   "outputs": [],
   "source": [
    "plt.plot(running_loss_history, label='training loss')\n",
    "plt.plot(val_running_loss_history, label='validation loss')\n",
    "plt.legend()\n",
    "plt.show()"
   ]
  },
  {
   "cell_type": "code",
   "execution_count": null,
   "id": "8bc317bd",
   "metadata": {},
   "outputs": [],
   "source": [
    "# Convert tensors to NumPy arrays and then to Python lists\n",
    "running_corrects_history_list = [tensor.item() for tensor in running_corrects_history]\n",
    "val_running_corrects_history_list = [tensor.item() for tensor in val_running_corrects_history]\n",
    "\n",
    "# Plotting accuracy curves\n",
    "plt.plot(running_corrects_history_list, label='training accuracy')\n",
    "plt.plot(val_running_corrects_history_list, label='validation accuracy')\n",
    "plt.legend()\n",
    "plt.show()"
   ]
  },
  {
   "cell_type": "code",
   "execution_count": null,
   "id": "4e9e3313",
   "metadata": {},
   "outputs": [],
   "source": [
    "from sklearn.metrics import confusion_matrix, precision_score, recall_score, f1_score"
   ]
  },
  {
   "cell_type": "code",
   "execution_count": null,
   "id": "ea151601",
   "metadata": {},
   "outputs": [],
   "source": [
    "# Initialize empty lists to store true labels and predicted labels\n",
    "all_labels = []\n",
    "all_preds = []\n",
    "\n",
    "for inputs, labels in training_loader:\n",
    "    inputs = inputs.to(device)\n",
    "    labels = labels.to(device)\n",
    "    outputs = model(inputs)\n",
    "    \n",
    "    _, preds = torch.max(outputs, 1)\n",
    "    \n",
    "    all_labels.extend(labels.cpu().numpy())\n",
    "    all_preds.extend(preds.cpu().numpy())"
   ]
  },
  {
   "cell_type": "code",
   "execution_count": null,
   "id": "26cd41f0",
   "metadata": {},
   "outputs": [],
   "source": [
    "# Calculate the confusion matrix\n",
    "conf_matrix = confusion_matrix(all_labels, all_preds)\n",
    "\n",
    "# Calculate precision and recall for each class\n",
    "precision = precision_score(all_labels, all_preds, average=None)\n",
    "recall = recall_score(all_labels, all_preds, average=None)\n",
    "\n",
    "# Print confusion matrix, precision, and recall for each class\n",
    "print('Confusion Matrix:')\n",
    "print(conf_matrix)\n",
    "\n",
    "# Print precision for each class\n",
    "print('\\nPrecision for each class:')\n",
    "for i in range(len(classes)):\n",
    "    print('{}: {:.4f}'.format(classes[i], precision[i]))\n",
    "\n",
    "# Print recall for each class\n",
    "print('\\nRecall for each class:')\n",
    "for i in range(len(classes)):\n",
    "    print('{}: {:.4f}'.format(classes[i], recall[i]))"
   ]
  },
  {
   "cell_type": "code",
   "execution_count": null,
   "id": "0b853e10",
   "metadata": {},
   "outputs": [],
   "source": [
    "import seaborn as sns\n",
    "\n",
    "# Normalize the confusion matrix\n",
    "conf_matrix = conf_matrix.astype('float') / conf_matrix.sum(axis=1)[:, np.newaxis]\n",
    "\n",
    "# Create a heatmap using seaborn\n",
    "plt.figure(figsize=(8, 6))\n",
    "sns.heatmap(conf_matrix, annot=True, fmt=\".2f\", cmap=\"Blues\",\n",
    "            xticklabels=np.unique(all_labels),\n",
    "            yticklabels=np.unique(all_labels))\n",
    "plt.title(\"Normalized Confusion Matrix\")\n",
    "plt.xlabel(\"Predicted\")\n",
    "plt.ylabel(\"True\")\n",
    "plt.show()"
   ]
  },
  {
   "cell_type": "code",
   "execution_count": null,
   "id": "8465670f",
   "metadata": {},
   "outputs": [],
   "source": [
    "# Calculate overall precision\n",
    "overall_precision = precision_score(all_labels, all_preds, average='weighted')\n",
    "\n",
    "# Print overall precision\n",
    "print('\\nOverall Precision: {:.4f}'.format(overall_precision))"
   ]
  },
  {
   "cell_type": "code",
   "execution_count": null,
   "id": "fd6f3871",
   "metadata": {},
   "outputs": [],
   "source": [
    "# Calculate overall recall\n",
    "overall_recall = recall_score(all_labels, all_preds, average='weighted')\n",
    "\n",
    "# Calculate overall F1 score\n",
    "overall_f1 = f1_score(all_labels, all_preds, average='weighted')\n",
    "\n",
    "# Print overall recall and F1 score\n",
    "print('\\nOverall Recall: {:.4f}'.format(overall_recall))\n",
    "print('Overall F1 Score: {:.4f}'.format(overall_f1))"
   ]
  },
  {
   "cell_type": "code",
   "execution_count": null,
   "id": "dca9b11f",
   "metadata": {},
   "outputs": [],
   "source": [
    "# Initialize empty lists to store true labels and predicted labels\n",
    "all_labels_t = []\n",
    "all_preds_t = []\n",
    "\n",
    "for inputs, labels in validation_loader:\n",
    "    inputs = inputs.to(device)\n",
    "    labels = labels.to(device)\n",
    "    outputs = model(inputs)\n",
    "    \n",
    "    _, preds = torch.max(outputs, 1)\n",
    "    \n",
    "    all_labels_t.extend(labels.cpu().numpy())\n",
    "    all_preds_t.extend(preds.cpu().numpy())"
   ]
  },
  {
   "cell_type": "code",
   "execution_count": null,
   "id": "2eff2113",
   "metadata": {},
   "outputs": [],
   "source": [
    "# Calculate the confusion matrix\n",
    "conf_matrix = confusion_matrix(all_labels_t, all_preds_t)\n",
    "\n",
    "# Calculate precision and recall for each class\n",
    "precision = precision_score(all_labels_t, all_preds_t, average=None)\n",
    "recall = recall_score(all_labels_t, all_preds_t, average=None)\n",
    "\n",
    "# Print confusion matrix, precision, and recall for each class\n",
    "print('Confusion Matrix:')\n",
    "print(conf_matrix)\n",
    "\n",
    "# Print precision for each class\n",
    "print('\\nPrecision for each class:')\n",
    "for i in range(len(classes)):\n",
    "    print('{}: {:.4f}'.format(classes[i], precision[i]))\n",
    "\n",
    "# Print recall for each class\n",
    "print('\\nRecall for each class:')\n",
    "for i in range(len(classes)):\n",
    "    print('{}: {:.4f}'.format(classes[i], recall[i]))"
   ]
  },
  {
   "cell_type": "code",
   "execution_count": null,
   "id": "9239b6e1",
   "metadata": {},
   "outputs": [],
   "source": [
    "import seaborn as sns\n",
    "\n",
    "# Normalize the confusion matrix\n",
    "conf_matrix = conf_matrix.astype('float') / conf_matrix.sum(axis=1)[:, np.newaxis]\n",
    "\n",
    "# Create a heatmap using seaborn\n",
    "plt.figure(figsize=(8, 6))\n",
    "sns.heatmap(conf_matrix, annot=True, fmt=\".2f\", cmap=\"Blues\",\n",
    "            xticklabels=np.unique(all_labels_t),\n",
    "            yticklabels=np.unique(all_labels_t))\n",
    "plt.title(\"Normalized Confusion Matrix\")\n",
    "plt.xlabel(\"Predicted\")\n",
    "plt.ylabel(\"True\")\n",
    "plt.show()"
   ]
  },
  {
   "cell_type": "code",
   "execution_count": null,
   "id": "d76b1888",
   "metadata": {},
   "outputs": [],
   "source": [
    "# Calculate overall precision\n",
    "overall_precision = precision_score(all_labels_t, all_preds_t, average='weighted')\n",
    "\n",
    "# Print overall precision\n",
    "print('\\nOverall Precision: {:.4f}'.format(overall_precision))"
   ]
  },
  {
   "cell_type": "code",
   "execution_count": null,
   "id": "aa2ce963",
   "metadata": {},
   "outputs": [],
   "source": [
    "# Calculate overall recall\n",
    "overall_recall = recall_score(all_labels_t, all_preds_t, average='weighted')\n",
    "\n",
    "# Calculate overall F1 score\n",
    "overall_f1 = f1_score(all_labels_t, all_preds_t, average='weighted')\n",
    "\n",
    "# Print overall recall and F1 score\n",
    "print('\\nOverall Recall: {:.4f}'.format(overall_recall))\n",
    "print('Overall F1 Score: {:.4f}'.format(overall_f1))"
   ]
  },
  {
   "cell_type": "markdown",
   "id": "a9029223",
   "metadata": {},
   "source": [
    "## Res-Net 50 with Drop Layer"
   ]
  },
  {
   "cell_type": "code",
   "execution_count": 8,
   "id": "16fb7793",
   "metadata": {},
   "outputs": [
    {
     "name": "stderr",
     "output_type": "stream",
     "text": [
      "D:\\A1\\archive\\Jupyter\\envs\\mygpu\\Lib\\site-packages\\torchvision\\models\\_utils.py:208: UserWarning: The parameter 'pretrained' is deprecated since 0.13 and may be removed in the future, please use 'weights' instead.\n",
      "  warnings.warn(\n",
      "D:\\A1\\archive\\Jupyter\\envs\\mygpu\\Lib\\site-packages\\torchvision\\models\\_utils.py:223: UserWarning: Arguments other than a weight enum or `None` for 'weights' are deprecated since 0.13 and may be removed in the future. The current behavior is equivalent to passing `weights=ResNet50_Weights.IMAGENET1K_V1`. You can also use `weights=ResNet50_Weights.DEFAULT` to get the most up-to-date weights.\n",
      "  warnings.warn(msg)\n"
     ]
    }
   ],
   "source": [
    "# Load the pretrained ResNet-50 model\n",
    "resnet50 = models.resnet50(pretrained=True)"
   ]
  },
  {
   "cell_type": "code",
   "execution_count": 9,
   "id": "f24d1291",
   "metadata": {},
   "outputs": [],
   "source": [
    "# Define the custom head with a dropout layer\n",
    "class CustomHead(nn.Module):\n",
    "    def __init__(self, in_features, num_classes, dropout_prob=0.5):\n",
    "        super(CustomHead, self).__init__()\n",
    "        self.fc = nn.Linear(in_features, num_classes)\n",
    "        self.dropout = nn.Dropout(p=dropout_prob)\n",
    "\n",
    "    def forward(self, x):\n",
    "        x = self.dropout(x)\n",
    "        x = self.fc(x)\n",
    "        return x"
   ]
  },
  {
   "cell_type": "code",
   "execution_count": 10,
   "id": "f8e78937",
   "metadata": {},
   "outputs": [],
   "source": [
    "num_classes = 6  \n",
    "in_features = resnet50.fc.in_features  # Get the number of input features from the original head\n",
    "custom_head = CustomHead(in_features, num_classes)"
   ]
  },
  {
   "cell_type": "code",
   "execution_count": 11,
   "id": "f3620ed3",
   "metadata": {},
   "outputs": [
    {
     "data": {
      "text/plain": [
       "2048"
      ]
     },
     "execution_count": 11,
     "metadata": {},
     "output_type": "execute_result"
    }
   ],
   "source": [
    "in_features"
   ]
  },
  {
   "cell_type": "code",
   "execution_count": 12,
   "id": "e762f9b1",
   "metadata": {},
   "outputs": [
    {
     "data": {
      "text/plain": [
       "CustomHead(\n",
       "  (fc): Linear(in_features=2048, out_features=6, bias=True)\n",
       "  (dropout): Dropout(p=0.5, inplace=False)\n",
       ")"
      ]
     },
     "execution_count": 12,
     "metadata": {},
     "output_type": "execute_result"
    }
   ],
   "source": [
    "custom_head"
   ]
  },
  {
   "cell_type": "code",
   "execution_count": 13,
   "id": "9b72156b",
   "metadata": {},
   "outputs": [],
   "source": [
    "# Replace the fully connected head of ResNet-50 with the custom head\n",
    "resnet50.fc = custom_head"
   ]
  },
  {
   "cell_type": "code",
   "execution_count": 14,
   "id": "e15cefaf",
   "metadata": {},
   "outputs": [
    {
     "data": {
      "text/plain": [
       "ResNet(\n",
       "  (conv1): Conv2d(3, 64, kernel_size=(7, 7), stride=(2, 2), padding=(3, 3), bias=False)\n",
       "  (bn1): BatchNorm2d(64, eps=1e-05, momentum=0.1, affine=True, track_running_stats=True)\n",
       "  (relu): ReLU(inplace=True)\n",
       "  (maxpool): MaxPool2d(kernel_size=3, stride=2, padding=1, dilation=1, ceil_mode=False)\n",
       "  (layer1): Sequential(\n",
       "    (0): Bottleneck(\n",
       "      (conv1): Conv2d(64, 64, kernel_size=(1, 1), stride=(1, 1), bias=False)\n",
       "      (bn1): BatchNorm2d(64, eps=1e-05, momentum=0.1, affine=True, track_running_stats=True)\n",
       "      (conv2): Conv2d(64, 64, kernel_size=(3, 3), stride=(1, 1), padding=(1, 1), bias=False)\n",
       "      (bn2): BatchNorm2d(64, eps=1e-05, momentum=0.1, affine=True, track_running_stats=True)\n",
       "      (conv3): Conv2d(64, 256, kernel_size=(1, 1), stride=(1, 1), bias=False)\n",
       "      (bn3): BatchNorm2d(256, eps=1e-05, momentum=0.1, affine=True, track_running_stats=True)\n",
       "      (relu): ReLU(inplace=True)\n",
       "      (downsample): Sequential(\n",
       "        (0): Conv2d(64, 256, kernel_size=(1, 1), stride=(1, 1), bias=False)\n",
       "        (1): BatchNorm2d(256, eps=1e-05, momentum=0.1, affine=True, track_running_stats=True)\n",
       "      )\n",
       "    )\n",
       "    (1): Bottleneck(\n",
       "      (conv1): Conv2d(256, 64, kernel_size=(1, 1), stride=(1, 1), bias=False)\n",
       "      (bn1): BatchNorm2d(64, eps=1e-05, momentum=0.1, affine=True, track_running_stats=True)\n",
       "      (conv2): Conv2d(64, 64, kernel_size=(3, 3), stride=(1, 1), padding=(1, 1), bias=False)\n",
       "      (bn2): BatchNorm2d(64, eps=1e-05, momentum=0.1, affine=True, track_running_stats=True)\n",
       "      (conv3): Conv2d(64, 256, kernel_size=(1, 1), stride=(1, 1), bias=False)\n",
       "      (bn3): BatchNorm2d(256, eps=1e-05, momentum=0.1, affine=True, track_running_stats=True)\n",
       "      (relu): ReLU(inplace=True)\n",
       "    )\n",
       "    (2): Bottleneck(\n",
       "      (conv1): Conv2d(256, 64, kernel_size=(1, 1), stride=(1, 1), bias=False)\n",
       "      (bn1): BatchNorm2d(64, eps=1e-05, momentum=0.1, affine=True, track_running_stats=True)\n",
       "      (conv2): Conv2d(64, 64, kernel_size=(3, 3), stride=(1, 1), padding=(1, 1), bias=False)\n",
       "      (bn2): BatchNorm2d(64, eps=1e-05, momentum=0.1, affine=True, track_running_stats=True)\n",
       "      (conv3): Conv2d(64, 256, kernel_size=(1, 1), stride=(1, 1), bias=False)\n",
       "      (bn3): BatchNorm2d(256, eps=1e-05, momentum=0.1, affine=True, track_running_stats=True)\n",
       "      (relu): ReLU(inplace=True)\n",
       "    )\n",
       "  )\n",
       "  (layer2): Sequential(\n",
       "    (0): Bottleneck(\n",
       "      (conv1): Conv2d(256, 128, kernel_size=(1, 1), stride=(1, 1), bias=False)\n",
       "      (bn1): BatchNorm2d(128, eps=1e-05, momentum=0.1, affine=True, track_running_stats=True)\n",
       "      (conv2): Conv2d(128, 128, kernel_size=(3, 3), stride=(2, 2), padding=(1, 1), bias=False)\n",
       "      (bn2): BatchNorm2d(128, eps=1e-05, momentum=0.1, affine=True, track_running_stats=True)\n",
       "      (conv3): Conv2d(128, 512, kernel_size=(1, 1), stride=(1, 1), bias=False)\n",
       "      (bn3): BatchNorm2d(512, eps=1e-05, momentum=0.1, affine=True, track_running_stats=True)\n",
       "      (relu): ReLU(inplace=True)\n",
       "      (downsample): Sequential(\n",
       "        (0): Conv2d(256, 512, kernel_size=(1, 1), stride=(2, 2), bias=False)\n",
       "        (1): BatchNorm2d(512, eps=1e-05, momentum=0.1, affine=True, track_running_stats=True)\n",
       "      )\n",
       "    )\n",
       "    (1): Bottleneck(\n",
       "      (conv1): Conv2d(512, 128, kernel_size=(1, 1), stride=(1, 1), bias=False)\n",
       "      (bn1): BatchNorm2d(128, eps=1e-05, momentum=0.1, affine=True, track_running_stats=True)\n",
       "      (conv2): Conv2d(128, 128, kernel_size=(3, 3), stride=(1, 1), padding=(1, 1), bias=False)\n",
       "      (bn2): BatchNorm2d(128, eps=1e-05, momentum=0.1, affine=True, track_running_stats=True)\n",
       "      (conv3): Conv2d(128, 512, kernel_size=(1, 1), stride=(1, 1), bias=False)\n",
       "      (bn3): BatchNorm2d(512, eps=1e-05, momentum=0.1, affine=True, track_running_stats=True)\n",
       "      (relu): ReLU(inplace=True)\n",
       "    )\n",
       "    (2): Bottleneck(\n",
       "      (conv1): Conv2d(512, 128, kernel_size=(1, 1), stride=(1, 1), bias=False)\n",
       "      (bn1): BatchNorm2d(128, eps=1e-05, momentum=0.1, affine=True, track_running_stats=True)\n",
       "      (conv2): Conv2d(128, 128, kernel_size=(3, 3), stride=(1, 1), padding=(1, 1), bias=False)\n",
       "      (bn2): BatchNorm2d(128, eps=1e-05, momentum=0.1, affine=True, track_running_stats=True)\n",
       "      (conv3): Conv2d(128, 512, kernel_size=(1, 1), stride=(1, 1), bias=False)\n",
       "      (bn3): BatchNorm2d(512, eps=1e-05, momentum=0.1, affine=True, track_running_stats=True)\n",
       "      (relu): ReLU(inplace=True)\n",
       "    )\n",
       "    (3): Bottleneck(\n",
       "      (conv1): Conv2d(512, 128, kernel_size=(1, 1), stride=(1, 1), bias=False)\n",
       "      (bn1): BatchNorm2d(128, eps=1e-05, momentum=0.1, affine=True, track_running_stats=True)\n",
       "      (conv2): Conv2d(128, 128, kernel_size=(3, 3), stride=(1, 1), padding=(1, 1), bias=False)\n",
       "      (bn2): BatchNorm2d(128, eps=1e-05, momentum=0.1, affine=True, track_running_stats=True)\n",
       "      (conv3): Conv2d(128, 512, kernel_size=(1, 1), stride=(1, 1), bias=False)\n",
       "      (bn3): BatchNorm2d(512, eps=1e-05, momentum=0.1, affine=True, track_running_stats=True)\n",
       "      (relu): ReLU(inplace=True)\n",
       "    )\n",
       "  )\n",
       "  (layer3): Sequential(\n",
       "    (0): Bottleneck(\n",
       "      (conv1): Conv2d(512, 256, kernel_size=(1, 1), stride=(1, 1), bias=False)\n",
       "      (bn1): BatchNorm2d(256, eps=1e-05, momentum=0.1, affine=True, track_running_stats=True)\n",
       "      (conv2): Conv2d(256, 256, kernel_size=(3, 3), stride=(2, 2), padding=(1, 1), bias=False)\n",
       "      (bn2): BatchNorm2d(256, eps=1e-05, momentum=0.1, affine=True, track_running_stats=True)\n",
       "      (conv3): Conv2d(256, 1024, kernel_size=(1, 1), stride=(1, 1), bias=False)\n",
       "      (bn3): BatchNorm2d(1024, eps=1e-05, momentum=0.1, affine=True, track_running_stats=True)\n",
       "      (relu): ReLU(inplace=True)\n",
       "      (downsample): Sequential(\n",
       "        (0): Conv2d(512, 1024, kernel_size=(1, 1), stride=(2, 2), bias=False)\n",
       "        (1): BatchNorm2d(1024, eps=1e-05, momentum=0.1, affine=True, track_running_stats=True)\n",
       "      )\n",
       "    )\n",
       "    (1): Bottleneck(\n",
       "      (conv1): Conv2d(1024, 256, kernel_size=(1, 1), stride=(1, 1), bias=False)\n",
       "      (bn1): BatchNorm2d(256, eps=1e-05, momentum=0.1, affine=True, track_running_stats=True)\n",
       "      (conv2): Conv2d(256, 256, kernel_size=(3, 3), stride=(1, 1), padding=(1, 1), bias=False)\n",
       "      (bn2): BatchNorm2d(256, eps=1e-05, momentum=0.1, affine=True, track_running_stats=True)\n",
       "      (conv3): Conv2d(256, 1024, kernel_size=(1, 1), stride=(1, 1), bias=False)\n",
       "      (bn3): BatchNorm2d(1024, eps=1e-05, momentum=0.1, affine=True, track_running_stats=True)\n",
       "      (relu): ReLU(inplace=True)\n",
       "    )\n",
       "    (2): Bottleneck(\n",
       "      (conv1): Conv2d(1024, 256, kernel_size=(1, 1), stride=(1, 1), bias=False)\n",
       "      (bn1): BatchNorm2d(256, eps=1e-05, momentum=0.1, affine=True, track_running_stats=True)\n",
       "      (conv2): Conv2d(256, 256, kernel_size=(3, 3), stride=(1, 1), padding=(1, 1), bias=False)\n",
       "      (bn2): BatchNorm2d(256, eps=1e-05, momentum=0.1, affine=True, track_running_stats=True)\n",
       "      (conv3): Conv2d(256, 1024, kernel_size=(1, 1), stride=(1, 1), bias=False)\n",
       "      (bn3): BatchNorm2d(1024, eps=1e-05, momentum=0.1, affine=True, track_running_stats=True)\n",
       "      (relu): ReLU(inplace=True)\n",
       "    )\n",
       "    (3): Bottleneck(\n",
       "      (conv1): Conv2d(1024, 256, kernel_size=(1, 1), stride=(1, 1), bias=False)\n",
       "      (bn1): BatchNorm2d(256, eps=1e-05, momentum=0.1, affine=True, track_running_stats=True)\n",
       "      (conv2): Conv2d(256, 256, kernel_size=(3, 3), stride=(1, 1), padding=(1, 1), bias=False)\n",
       "      (bn2): BatchNorm2d(256, eps=1e-05, momentum=0.1, affine=True, track_running_stats=True)\n",
       "      (conv3): Conv2d(256, 1024, kernel_size=(1, 1), stride=(1, 1), bias=False)\n",
       "      (bn3): BatchNorm2d(1024, eps=1e-05, momentum=0.1, affine=True, track_running_stats=True)\n",
       "      (relu): ReLU(inplace=True)\n",
       "    )\n",
       "    (4): Bottleneck(\n",
       "      (conv1): Conv2d(1024, 256, kernel_size=(1, 1), stride=(1, 1), bias=False)\n",
       "      (bn1): BatchNorm2d(256, eps=1e-05, momentum=0.1, affine=True, track_running_stats=True)\n",
       "      (conv2): Conv2d(256, 256, kernel_size=(3, 3), stride=(1, 1), padding=(1, 1), bias=False)\n",
       "      (bn2): BatchNorm2d(256, eps=1e-05, momentum=0.1, affine=True, track_running_stats=True)\n",
       "      (conv3): Conv2d(256, 1024, kernel_size=(1, 1), stride=(1, 1), bias=False)\n",
       "      (bn3): BatchNorm2d(1024, eps=1e-05, momentum=0.1, affine=True, track_running_stats=True)\n",
       "      (relu): ReLU(inplace=True)\n",
       "    )\n",
       "    (5): Bottleneck(\n",
       "      (conv1): Conv2d(1024, 256, kernel_size=(1, 1), stride=(1, 1), bias=False)\n",
       "      (bn1): BatchNorm2d(256, eps=1e-05, momentum=0.1, affine=True, track_running_stats=True)\n",
       "      (conv2): Conv2d(256, 256, kernel_size=(3, 3), stride=(1, 1), padding=(1, 1), bias=False)\n",
       "      (bn2): BatchNorm2d(256, eps=1e-05, momentum=0.1, affine=True, track_running_stats=True)\n",
       "      (conv3): Conv2d(256, 1024, kernel_size=(1, 1), stride=(1, 1), bias=False)\n",
       "      (bn3): BatchNorm2d(1024, eps=1e-05, momentum=0.1, affine=True, track_running_stats=True)\n",
       "      (relu): ReLU(inplace=True)\n",
       "    )\n",
       "  )\n",
       "  (layer4): Sequential(\n",
       "    (0): Bottleneck(\n",
       "      (conv1): Conv2d(1024, 512, kernel_size=(1, 1), stride=(1, 1), bias=False)\n",
       "      (bn1): BatchNorm2d(512, eps=1e-05, momentum=0.1, affine=True, track_running_stats=True)\n",
       "      (conv2): Conv2d(512, 512, kernel_size=(3, 3), stride=(2, 2), padding=(1, 1), bias=False)\n",
       "      (bn2): BatchNorm2d(512, eps=1e-05, momentum=0.1, affine=True, track_running_stats=True)\n",
       "      (conv3): Conv2d(512, 2048, kernel_size=(1, 1), stride=(1, 1), bias=False)\n",
       "      (bn3): BatchNorm2d(2048, eps=1e-05, momentum=0.1, affine=True, track_running_stats=True)\n",
       "      (relu): ReLU(inplace=True)\n",
       "      (downsample): Sequential(\n",
       "        (0): Conv2d(1024, 2048, kernel_size=(1, 1), stride=(2, 2), bias=False)\n",
       "        (1): BatchNorm2d(2048, eps=1e-05, momentum=0.1, affine=True, track_running_stats=True)\n",
       "      )\n",
       "    )\n",
       "    (1): Bottleneck(\n",
       "      (conv1): Conv2d(2048, 512, kernel_size=(1, 1), stride=(1, 1), bias=False)\n",
       "      (bn1): BatchNorm2d(512, eps=1e-05, momentum=0.1, affine=True, track_running_stats=True)\n",
       "      (conv2): Conv2d(512, 512, kernel_size=(3, 3), stride=(1, 1), padding=(1, 1), bias=False)\n",
       "      (bn2): BatchNorm2d(512, eps=1e-05, momentum=0.1, affine=True, track_running_stats=True)\n",
       "      (conv3): Conv2d(512, 2048, kernel_size=(1, 1), stride=(1, 1), bias=False)\n",
       "      (bn3): BatchNorm2d(2048, eps=1e-05, momentum=0.1, affine=True, track_running_stats=True)\n",
       "      (relu): ReLU(inplace=True)\n",
       "    )\n",
       "    (2): Bottleneck(\n",
       "      (conv1): Conv2d(2048, 512, kernel_size=(1, 1), stride=(1, 1), bias=False)\n",
       "      (bn1): BatchNorm2d(512, eps=1e-05, momentum=0.1, affine=True, track_running_stats=True)\n",
       "      (conv2): Conv2d(512, 512, kernel_size=(3, 3), stride=(1, 1), padding=(1, 1), bias=False)\n",
       "      (bn2): BatchNorm2d(512, eps=1e-05, momentum=0.1, affine=True, track_running_stats=True)\n",
       "      (conv3): Conv2d(512, 2048, kernel_size=(1, 1), stride=(1, 1), bias=False)\n",
       "      (bn3): BatchNorm2d(2048, eps=1e-05, momentum=0.1, affine=True, track_running_stats=True)\n",
       "      (relu): ReLU(inplace=True)\n",
       "    )\n",
       "  )\n",
       "  (avgpool): AdaptiveAvgPool2d(output_size=(1, 1))\n",
       "  (fc): CustomHead(\n",
       "    (fc): Linear(in_features=2048, out_features=6, bias=True)\n",
       "    (dropout): Dropout(p=0.5, inplace=False)\n",
       "  )\n",
       ")"
      ]
     },
     "execution_count": 14,
     "metadata": {},
     "output_type": "execute_result"
    }
   ],
   "source": [
    "# Set the model to evaluation mode\n",
    "resnet50.eval()"
   ]
  },
  {
   "cell_type": "code",
   "execution_count": 15,
   "id": "cd48c354",
   "metadata": {},
   "outputs": [
    {
     "name": "stdout",
     "output_type": "stream",
     "text": [
      "Total parameters in the model: 23520326\n"
     ]
    }
   ],
   "source": [
    "# Count the total number of parameters\n",
    "total_params = sum(p.numel() for p in resnet50.parameters())\n",
    "print(f'Total parameters in the model: {total_params}')"
   ]
  },
  {
   "cell_type": "code",
   "execution_count": 16,
   "id": "cb7fc54c",
   "metadata": {},
   "outputs": [],
   "source": [
    "# Move the model to the GPU\n",
    "model = resnet50.to(device)"
   ]
  },
  {
   "cell_type": "code",
   "execution_count": 17,
   "id": "a4e029c8",
   "metadata": {},
   "outputs": [],
   "source": [
    "criterion = nn.CrossEntropyLoss()\n",
    "optimizer = torch.optim.Adam(model.parameters(), lr = 0.0001, weight_decay = 1e-5)"
   ]
  },
  {
   "cell_type": "code",
   "execution_count": 18,
   "id": "692db4f0",
   "metadata": {},
   "outputs": [
    {
     "name": "stdout",
     "output_type": "stream",
     "text": [
      "epoch: 1\n",
      "training loss: 0.0563, acc 0.5860\n",
      "validation loss: 0.0289, validation acc 0.8011\n",
      "time taken for epoch 1: 78.47 seconds\n",
      "epoch: 2\n",
      "training loss: 0.0318, acc 0.7732\n",
      "validation loss: 0.0255, validation acc 0.8300\n",
      "time taken for epoch 2: 73.95 seconds\n",
      "epoch: 3\n",
      "training loss: 0.0234, acc 0.8422\n",
      "validation loss: 0.0193, validation acc 0.8762\n",
      "time taken for epoch 3: 74.10 seconds\n",
      "epoch: 4\n",
      "training loss: 0.0185, acc 0.8824\n",
      "validation loss: 0.0199, validation acc 0.8722\n",
      "time taken for epoch 4: 74.01 seconds\n",
      "epoch: 5\n",
      "training loss: 0.0165, acc 0.8908\n",
      "validation loss: 0.0195, validation acc 0.8867\n",
      "time taken for epoch 5: 74.13 seconds\n",
      "epoch: 6\n",
      "training loss: 0.0136, acc 0.9072\n",
      "validation loss: 0.0243, validation acc 0.8419\n",
      "time taken for epoch 6: 74.19 seconds\n",
      "epoch: 7\n",
      "training loss: 0.0121, acc 0.9146\n",
      "validation loss: 0.0179, validation acc 0.8814\n",
      "time taken for epoch 7: 74.17 seconds\n",
      "epoch: 8\n",
      "training loss: 0.0099, acc 0.9417\n",
      "validation loss: 0.0163, validation acc 0.9144\n",
      "time taken for epoch 8: 74.21 seconds\n",
      "epoch: 9\n",
      "training loss: 0.0102, acc 0.9389\n",
      "validation loss: 0.0184, validation acc 0.8906\n",
      "time taken for epoch 9: 74.13 seconds\n",
      "epoch: 10\n",
      "training loss: 0.0085, acc 0.9446\n",
      "validation loss: 0.0168, validation acc 0.9078\n",
      "time taken for epoch 10: 74.22 seconds\n",
      "epoch: 11\n",
      "training loss: 0.0084, acc 0.9457\n",
      "validation loss: 0.0182, validation acc 0.9038\n",
      "time taken for epoch 11: 74.08 seconds\n",
      "epoch: 12\n",
      "training loss: 0.0056, acc 0.9672\n",
      "validation loss: 0.0173, validation acc 0.9104\n",
      "time taken for epoch 12: 74.12 seconds\n",
      "epoch: 13\n",
      "training loss: 0.0059, acc 0.9598\n",
      "validation loss: 0.0154, validation acc 0.9196\n",
      "time taken for epoch 13: 82.40 seconds\n",
      "epoch: 14\n",
      "training loss: 0.0052, acc 0.9638\n",
      "validation loss: 0.0210, validation acc 0.8972\n",
      "time taken for epoch 14: 83.66 seconds\n",
      "epoch: 15\n",
      "training loss: 0.0043, acc 0.9757\n",
      "validation loss: 0.0158, validation acc 0.9130\n",
      "time taken for epoch 15: 83.77 seconds\n",
      "epoch: 16\n",
      "training loss: 0.0064, acc 0.9576\n",
      "validation loss: 0.0227, validation acc 0.8748\n",
      "time taken for epoch 16: 83.66 seconds\n",
      "epoch: 17\n",
      "training loss: 0.0061, acc 0.9649\n",
      "validation loss: 0.0187, validation acc 0.8946\n",
      "time taken for epoch 17: 83.71 seconds\n",
      "epoch: 18\n",
      "training loss: 0.0054, acc 0.9610\n",
      "validation loss: 0.0203, validation acc 0.8893\n",
      "time taken for epoch 18: 83.84 seconds\n",
      "epoch: 19\n",
      "training loss: 0.0058, acc 0.9627\n",
      "validation loss: 0.0213, validation acc 0.8920\n",
      "time taken for epoch 19: 33.91 seconds\n",
      "epoch: 20\n",
      "training loss: 0.0043, acc 0.9740\n",
      "validation loss: 0.0169, validation acc 0.9144\n",
      "time taken for epoch 20: 21.01 seconds\n",
      "Early stopping at epoch 20. No improvement in validation accuracy.\n",
      "Overall time taken for 25 epochs: 1449.77 seconds\n",
      "Best epoch: 13, Best validation accuracy: 0.9196311235427856\n"
     ]
    }
   ],
   "source": [
    "epochs = 25\n",
    "running_loss_history = []\n",
    "running_corrects_history = []\n",
    "val_running_loss_history = []\n",
    "val_running_corrects_history = []\n",
    "\n",
    "best_val_acc = 0.0\n",
    "best_epoch = 0\n",
    "patience = 6  # Adjust this value based on your preference\n",
    "\n",
    "overall_start_time = time.time()  # Record the start time for the entire training process\n",
    "\n",
    "for e in range(epochs):\n",
    "  \n",
    "    start_time = time.time()  # Record the start time for the epoch\n",
    "\n",
    "    running_loss = 0.0\n",
    "    running_corrects = 0.0\n",
    "    val_running_loss = 0.0\n",
    "    val_running_corrects = 0.0\n",
    "\n",
    "    # Training loop\n",
    "    model.train()\n",
    "    for inputs, labels in training_loader:\n",
    "        inputs = inputs.to(device)\n",
    "        labels = labels.to(device)\n",
    "        outputs = model(inputs)\n",
    "        loss = criterion(outputs, labels)\n",
    "        \n",
    "        optimizer.zero_grad()\n",
    "        loss.backward()\n",
    "        optimizer.step()\n",
    "        \n",
    "        _, preds = torch.max(outputs, 1)\n",
    "        running_loss += loss.item()\n",
    "        running_corrects += torch.sum(preds == labels.data)\n",
    "\n",
    "    else:\n",
    "        with torch.no_grad():\n",
    "            # Validation loop\n",
    "            model.eval()\n",
    "            for val_inputs, val_labels in validation_loader:\n",
    "                val_inputs = val_inputs.to(device)\n",
    "                val_labels = val_labels.to(device)\n",
    "                val_outputs = model(val_inputs)\n",
    "                val_loss = criterion(val_outputs, val_labels)\n",
    "                \n",
    "                _, val_preds = torch.max(val_outputs, 1)\n",
    "                val_running_loss += val_loss.item()\n",
    "                val_running_corrects += torch.sum(val_preds == val_labels.data)\n",
    "            \n",
    "        epoch_loss = running_loss / len(training_loader.dataset)\n",
    "        epoch_acc = running_corrects.float() / len(training_loader.dataset)\n",
    "        running_loss_history.append(epoch_loss)\n",
    "        running_corrects_history.append(epoch_acc)\n",
    "        \n",
    "        val_epoch_loss = val_running_loss / len(validation_loader.dataset)\n",
    "        val_epoch_acc = val_running_corrects.float() / len(validation_loader.dataset)\n",
    "        val_running_loss_history.append(val_epoch_loss)\n",
    "        val_running_corrects_history.append(val_epoch_acc)\n",
    "        \n",
    "        end_time = time.time()  # Record the end time for the epoch\n",
    "        epoch_time = end_time - start_time  # Calculate the time taken for the epoch\n",
    "\n",
    "        print('epoch:', (e+1))\n",
    "        print('training loss: {:.4f}, acc {:.4f}'.format(epoch_loss, epoch_acc.item()))\n",
    "        print('validation loss: {:.4f}, validation acc {:.4f}'.format(val_epoch_loss, val_epoch_acc.item()))\n",
    "        print('time taken for epoch {}: {:.2f} seconds'.format(e+1, epoch_time))\n",
    "\n",
    "        # Check for early stopping\n",
    "        if val_epoch_acc > best_val_acc:\n",
    "            best_val_acc = val_epoch_acc\n",
    "            best_epoch = e + 1  # Epochs are 1-indexed\n",
    "\n",
    "        if e - best_epoch >= patience:\n",
    "            print(f'Early stopping at epoch {e+1}. No improvement in validation accuracy.')\n",
    "            break\n",
    "\n",
    "overall_end_time = time.time()  # Record the end time for the entire training process\n",
    "overall_time = overall_end_time - overall_start_time  # Calculate the overall time taken\n",
    "print('Overall time taken for {} epochs: {:.2f} seconds'.format(epochs, overall_time))\n",
    "print(f'Best epoch: {best_epoch}, Best validation accuracy: {best_val_acc.item()}')"
   ]
  },
  {
   "cell_type": "code",
   "execution_count": 19,
   "id": "bd075db7",
   "metadata": {},
   "outputs": [
    {
     "data": {
      "image/png": "[encoded data removed]",
      "text/plain": [
       "<Figure size 640x480 with 1 Axes>"
      ]
     },
     "metadata": {},
     "output_type": "display_data"
    }
   ],
   "source": [
    "plt.plot(running_loss_history, label='training loss')\n",
    "plt.plot(val_running_loss_history, label='validation loss')\n",
    "plt.legend()\n",
    "plt.show()"
   ]
  },
  {
   "cell_type": "code",
   "execution_count": 20,
   "id": "c531f139",
   "metadata": {},
   "outputs": [
    {
     "data": {
      "image/png": "[encoded data removed]",
      "text/plain": [
       "<Figure size 640x480 with 1 Axes>"
      ]
     },
     "metadata": {},
     "output_type": "display_data"
    }
   ],
   "source": [
    "# Convert tensors to NumPy arrays and then to Python lists\n",
    "running_corrects_history_list = [tensor.item() for tensor in running_corrects_history]\n",
    "val_running_corrects_history_list = [tensor.item() for tensor in val_running_corrects_history]\n",
    "\n",
    "# Plotting accuracy curves\n",
    "plt.plot(running_corrects_history_list, label='training accuracy')\n",
    "plt.plot(val_running_corrects_history_list, label='validation accuracy')\n",
    "plt.legend()\n",
    "plt.show()"
   ]
  },
  {
   "cell_type": "code",
   "execution_count": 21,
   "id": "fe26788a",
   "metadata": {},
   "outputs": [],
   "source": [
    "from sklearn.metrics import confusion_matrix, precision_score, recall_score, f1_score"
   ]
  },
  {
   "cell_type": "code",
   "execution_count": 22,
   "id": "fbcbe611",
   "metadata": {},
   "outputs": [],
   "source": [
    "# Initialize empty lists to store true labels and predicted labels\n",
    "all_labels = []\n",
    "all_preds = []\n",
    "\n",
    "for inputs, labels in training_loader:\n",
    "    inputs = inputs.to(device)\n",
    "    labels = labels.to(device)\n",
    "    outputs = model(inputs)\n",
    "    \n",
    "    _, preds = torch.max(outputs, 1)\n",
    "    \n",
    "    all_labels.extend(labels.cpu().numpy())\n",
    "    all_preds.extend(preds.cpu().numpy())"
   ]
  },
  {
   "cell_type": "code",
   "execution_count": 23,
   "id": "a92620b8",
   "metadata": {},
   "outputs": [
    {
     "name": "stdout",
     "output_type": "stream",
     "text": [
      "Confusion Matrix:\n",
      "[[286   0   0   1   0   0]\n",
      " [  0 351   1   2   0   0]\n",
      " [  0   2 283   0   1   0]\n",
      " [  0   1   0 401   1   0]\n",
      " [  0   0   0   0 347   0]\n",
      " [  1   1   0   1   0  88]]\n",
      "\n",
      "Precision for each class:\n",
      "cardboard: 0.9965\n",
      "glass: 0.9887\n",
      "metal: 0.9965\n",
      "paper: 0.9901\n",
      "plastic: 0.9943\n",
      "trash: 1.0000\n",
      "\n",
      "Recall for each class:\n",
      "cardboard: 0.9965\n",
      "glass: 0.9915\n",
      "metal: 0.9895\n",
      "paper: 0.9950\n",
      "plastic: 1.0000\n",
      "trash: 0.9670\n"
     ]
    }
   ],
   "source": [
    "# Calculate the confusion matrix\n",
    "conf_matrix = confusion_matrix(all_labels, all_preds)\n",
    "\n",
    "# Calculate precision and recall for each class\n",
    "precision = precision_score(all_labels, all_preds, average=None)\n",
    "recall = recall_score(all_labels, all_preds, average=None)\n",
    "\n",
    "# Print confusion matrix, precision, and recall for each class\n",
    "print('Confusion Matrix:')\n",
    "print(conf_matrix)\n",
    "\n",
    "# Print precision for each class\n",
    "print('\\nPrecision for each class:')\n",
    "for i in range(len(classes)):\n",
    "    print('{}: {:.4f}'.format(classes[i], precision[i]))\n",
    "\n",
    "# Print recall for each class\n",
    "print('\\nRecall for each class:')\n",
    "for i in range(len(classes)):\n",
    "    print('{}: {:.4f}'.format(classes[i], recall[i]))"
   ]
  },
  {
   "cell_type": "code",
   "execution_count": 24,
   "id": "d91a68ac",
   "metadata": {},
   "outputs": [
    {
     "name": "stdout",
     "output_type": "stream",
     "text": [
      "\n",
      "Overall Precision: 0.9932\n"
     ]
    }
   ],
   "source": [
    "# Calculate overall precision\n",
    "overall_precision = precision_score(all_labels, all_preds, average='weighted')\n",
    "\n",
    "# Print overall precision\n",
    "print('\\nOverall Precision: {:.4f}'.format(overall_precision))"
   ]
  },
  {
   "cell_type": "code",
   "execution_count": 25,
   "id": "ccd632d4",
   "metadata": {},
   "outputs": [
    {
     "name": "stdout",
     "output_type": "stream",
     "text": [
      "\n",
      "Overall Recall: 0.9932\n",
      "Overall F1 Score: 0.9932\n"
     ]
    }
   ],
   "source": [
    "# Calculate overall recall\n",
    "overall_recall = recall_score(all_labels, all_preds, average='weighted')\n",
    "\n",
    "# Calculate overall F1 score\n",
    "overall_f1 = f1_score(all_labels, all_preds, average='weighted')\n",
    "\n",
    "# Print overall recall and F1 score\n",
    "print('\\nOverall Recall: {:.4f}'.format(overall_recall))\n",
    "print('Overall F1 Score: {:.4f}'.format(overall_f1))"
   ]
  },
  {
   "cell_type": "code",
   "execution_count": 26,
   "id": "c18e2b9a",
   "metadata": {},
   "outputs": [],
   "source": [
    "# Initialize empty lists to store true labels and predicted labels\n",
    "all_labels_t = []\n",
    "all_preds_t = []\n",
    "\n",
    "for inputs, labels in validation_loader:\n",
    "    inputs = inputs.to(device)\n",
    "    labels = labels.to(device)\n",
    "    outputs = model(inputs)\n",
    "    \n",
    "    _, preds = torch.max(outputs, 1)\n",
    "    \n",
    "    all_labels_t.extend(labels.cpu().numpy())\n",
    "    all_preds_t.extend(preds.cpu().numpy())"
   ]
  },
  {
   "cell_type": "code",
   "execution_count": 27,
   "id": "7e0f8cd4",
   "metadata": {},
   "outputs": [
    {
     "name": "stdout",
     "output_type": "stream",
     "text": [
      "Confusion Matrix:\n",
      "[[104   0   1   9   2   0]\n",
      " [  0 134   7   1   5   0]\n",
      " [  0   5 117   1   1   0]\n",
      " [  2   0   1 182   2   4]\n",
      " [  1   8   2   1 122   1]\n",
      " [  0   1   2   2   6  35]]\n",
      "\n",
      "Precision for each class:\n",
      "cardboard: 0.9720\n",
      "glass: 0.9054\n",
      "metal: 0.9000\n",
      "paper: 0.9286\n",
      "plastic: 0.8841\n",
      "trash: 0.8750\n",
      "\n",
      "Recall for each class:\n",
      "cardboard: 0.8966\n",
      "glass: 0.9116\n",
      "metal: 0.9435\n",
      "paper: 0.9529\n",
      "plastic: 0.9037\n",
      "trash: 0.7609\n"
     ]
    }
   ],
   "source": [
    "# Calculate the confusion matrix\n",
    "conf_matrix = confusion_matrix(all_labels_t, all_preds_t)\n",
    "\n",
    "# Calculate precision and recall for each class\n",
    "precision = precision_score(all_labels_t, all_preds_t, average=None)\n",
    "recall = recall_score(all_labels_t, all_preds_t, average=None)\n",
    "\n",
    "# Print confusion matrix, precision, and recall for each class\n",
    "print('Confusion Matrix:')\n",
    "print(conf_matrix)\n",
    "\n",
    "# Print precision for each class\n",
    "print('\\nPrecision for each class:')\n",
    "for i in range(len(classes)):\n",
    "    print('{}: {:.4f}'.format(classes[i], precision[i]))\n",
    "\n",
    "# Print recall for each class\n",
    "print('\\nRecall for each class:')\n",
    "for i in range(len(classes)):\n",
    "    print('{}: {:.4f}'.format(classes[i], recall[i]))"
   ]
  },
  {
   "cell_type": "code",
   "execution_count": 28,
   "id": "52b03a45",
   "metadata": {},
   "outputs": [
    {
     "name": "stdout",
     "output_type": "stream",
     "text": [
      "\n",
      "Overall Precision: 0.9149\n"
     ]
    }
   ],
   "source": [
    "# Calculate overall precision\n",
    "overall_precision = precision_score(all_labels_t, all_preds_t, average='weighted')\n",
    "\n",
    "# Print overall precision\n",
    "print('\\nOverall Precision: {:.4f}'.format(overall_precision))"
   ]
  },
  {
   "cell_type": "code",
   "execution_count": 29,
   "id": "6fd7ed58",
   "metadata": {},
   "outputs": [
    {
     "name": "stdout",
     "output_type": "stream",
     "text": [
      "\n",
      "Overall Recall: 0.9144\n",
      "Overall F1 Score: 0.9140\n"
     ]
    }
   ],
   "source": [
    "# Calculate overall recall\n",
    "overall_recall = recall_score(all_labels_t, all_preds_t, average='weighted')\n",
    "\n",
    "# Calculate overall F1 score\n",
    "overall_f1 = f1_score(all_labels_t, all_preds_t, average='weighted')\n",
    "\n",
    "# Print overall recall and F1 score\n",
    "print('\\nOverall Recall: {:.4f}'.format(overall_recall))\n",
    "print('Overall F1 Score: {:.4f}'.format(overall_f1))"
   ]
  },
  {
   "cell_type": "code",
   "execution_count": 30,
   "id": "c7af2f9c",
   "metadata": {},
   "outputs": [
    {
     "data": {
      "image/png": "[encoded data removed]",
      "text/plain": [
       "<Figure size 800x600 with 2 Axes>"
      ]
     },
     "metadata": {},
     "output_type": "display_data"
    }
   ],
   "source": [
    "import seaborn as sns\n",
    "\n",
    "# Normalize the confusion matrix\n",
    "conf_matrix = conf_matrix.astype('float') / conf_matrix.sum(axis=1)[:, np.newaxis]\n",
    "\n",
    "# Create a heatmap using seaborn\n",
    "plt.figure(figsize=(8, 6))\n",
    "sns.heatmap(conf_matrix, annot=True, fmt=\".2f\", cmap=\"Blues\",\n",
    "            xticklabels=np.unique(all_labels_t),\n",
    "            yticklabels=np.unique(all_labels_t))\n",
    "plt.title(\"Normalized Confusion Matrix\")\n",
    "plt.xlabel(\"Predicted\")\n",
    "plt.ylabel(\"True\")\n",
    "plt.show()"
   ]
  },
  {
   "cell_type": "markdown",
   "id": "a90b3bfc",
   "metadata": {},
   "source": []
  }
 ],
 "metadata": {
  "kernelspec": {
   "display_name": "mygpu",
   "language": "python",
   "name": "mygpu"
  },
  "language_info": {
   "codemirror_mode": {
    "name": "ipython",
    "version": 3
   },
   "file_extension": ".py",
   "mimetype": "text/x-python",
   "name": "python",
   "nbconvert_exporter": "python",
   "pygments_lexer": "ipython3",
   "version": "3.11.5"
  }
 },
 "nbformat": 4,
 "nbformat_minor": 5
}
