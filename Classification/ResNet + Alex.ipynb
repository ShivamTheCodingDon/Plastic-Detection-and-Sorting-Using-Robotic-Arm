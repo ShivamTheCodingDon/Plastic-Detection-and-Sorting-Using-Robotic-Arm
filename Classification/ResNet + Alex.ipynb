{
 "cells": [
  {
   "cell_type": "code",
   "execution_count": 1,
   "id": "6fea6c15",
   "metadata": {},
   "outputs": [],
   "source": [
    "import pandas as pd\n",
    "import numpy as np \n",
    "import matplotlib.pyplot as plt\n",
    "from PIL import Image\n",
    "import torch\n",
    "import torch.nn as nn\n",
    "import torch.nn.functional as F\n",
    "from torch import nn\n",
    "from torch.autograd import Variable\n",
    "from torch.cuda.amp import autocast, GradScaler\n",
    "from torchvision import datasets, transforms, models\n",
    "import time"
   ]
  },
  {
   "cell_type": "code",
   "execution_count": 2,
   "id": "73febaa0",
   "metadata": {},
   "outputs": [],
   "source": [
    "device = torch.device(\"cuda:0\" if torch.cuda.is_available() else \"cpu\")"
   ]
  },
  {
   "cell_type": "code",
   "execution_count": 3,
   "id": "773d6cd4",
   "metadata": {},
   "outputs": [
    {
     "data": {
      "text/plain": [
       "device(type='cuda', index=0)"
      ]
     },
     "execution_count": 3,
     "metadata": {},
     "output_type": "execute_result"
    }
   ],
   "source": [
    "device"
   ]
  },
  {
   "cell_type": "code",
   "execution_count": 4,
   "id": "f90c0b4a",
   "metadata": {},
   "outputs": [],
   "source": [
    "transform_train = transforms.Compose([\n",
    "    transforms.Resize((112, 112)),\n",
    "    transforms.RandomHorizontalFlip(),\n",
    "    transforms.RandomAffine(0, shear=10, scale=(0.8, 1.2)),\n",
    "    transforms.ColorJitter(brightness=0.5, contrast=0.6, saturation=0.5),\n",
    "    transforms.ToTensor(),\n",
    "    transforms.Normalize((0.5,), (0.5,))\n",
    "])\n",
    "\n",
    "transform = transforms.Compose([\n",
    "    transforms.Resize((112, 112)),\n",
    "    transforms.ToTensor(),\n",
    "    transforms.Normalize((0.5,), (0.5,))\n",
    "])\n",
    "\n",
    "training_dataset = datasets.ImageFolder('train', transform=transform_train)\n",
    "validation_dataset = datasets.ImageFolder('val', transform=transform)\n",
    "\n",
    "training_loader = torch.utils.data.DataLoader(training_dataset, batch_size=20, shuffle=True)\n",
    "validation_loader = torch.utils.data.DataLoader(validation_dataset, batch_size=20, shuffle=False)"
   ]
  },
  {
   "cell_type": "code",
   "execution_count": 5,
   "id": "6765a1e3",
   "metadata": {},
   "outputs": [
    {
     "name": "stdout",
     "output_type": "stream",
     "text": [
      "1768\n",
      "759\n"
     ]
    }
   ],
   "source": [
    "print(len(training_dataset))\n",
    "print(len(validation_dataset))"
   ]
  },
  {
   "cell_type": "code",
   "execution_count": 6,
   "id": "30f246b1",
   "metadata": {},
   "outputs": [],
   "source": [
    "def im_convert(tensor):\n",
    "  image = tensor.cpu().clone().detach().numpy()\n",
    "  image = image.transpose(1, 2, 0)\n",
    "  image = image * np.array((0.5, 0.5, 0.5)) + np.array((0.5, 0.5, 0.5))\n",
    "  image = image.clip(0, 1)\n",
    "  return image"
   ]
  },
  {
   "cell_type": "code",
   "execution_count": 7,
   "id": "500720b7",
   "metadata": {},
   "outputs": [],
   "source": [
    "classes = ('cardboard', 'glass', 'metal', 'paper', 'plastic', 'trash')"
   ]
  },
  {
   "cell_type": "code",
   "execution_count": 8,
   "id": "4b5eae7b",
   "metadata": {},
   "outputs": [],
   "source": [
    "# class CustomModel(nn.Module):\n",
    "#     def __init__(self, num_classes=6):\n",
    "#         super(CustomModel, self).__init__()\n",
    "        \n",
    "#         # AlexNet-like architecture\n",
    "#         self.features = nn.Sequential(\n",
    "#             nn.Conv2d(3, 64, kernel_size=11, stride=4, padding=2),\n",
    "#             nn.ReLU(inplace=True),\n",
    "#             nn.MaxPool2d(kernel_size=3, stride=2),\n",
    "#             nn.Conv2d(64, 192, kernel_size=5, padding=2),\n",
    "#             nn.ReLU(inplace=True),\n",
    "#             nn.MaxPool2d(kernel_size=3, stride=2),\n",
    "#             nn.Conv2d(192, 384, kernel_size=3, padding=1),\n",
    "#             nn.ReLU(inplace=True),\n",
    "#             nn.Conv2d(384, 256, kernel_size=3, padding=1),\n",
    "#             nn.ReLU(inplace=True),\n",
    "#             nn.Conv2d(256, 256, kernel_size=3, padding=1),\n",
    "#             nn.ReLU(inplace=True),\n",
    "#             nn.MaxPool2d(kernel_size=3, stride=2),\n",
    "#         )\n",
    "        \n",
    "#         # ResNet-like architecture\n",
    "#         self.residual_block = nn.Sequential(\n",
    "#             nn.Conv2d(256, 256, kernel_size=3, stride=1, padding=1),\n",
    "#             nn.ReLU(inplace=True),\n",
    "#             nn.Conv2d(256, 256, kernel_size=3, stride=1, padding=1),\n",
    "#         )\n",
    "        \n",
    "#         # Global average pooling\n",
    "#         self.avgpool = nn.AdaptiveAvgPool2d((1, 1))\n",
    "        \n",
    "#         # Fully connected layers\n",
    "#         self.fc = nn.Sequential(\n",
    "#             nn.Flatten(),\n",
    "#             nn.Linear(256, 128),\n",
    "#             nn.ReLU(inplace=True),\n",
    "#             nn.Dropout(0.5),\n",
    "#             nn.Linear(128, num_classes)\n",
    "#         )\n",
    "\n",
    "#     def forward(self, x):\n",
    "#         x = self.features(x)\n",
    "#         x_residual = self.residual_block(x)\n",
    "#         x = x + x_residual\n",
    "#         x = self.avgpool(x)\n",
    "#         x = self.fc(x)\n",
    "#         return x"
   ]
  },
  {
   "cell_type": "code",
   "execution_count": 9,
   "id": "d9a198c8",
   "metadata": {},
   "outputs": [],
   "source": [
    "# class CustomModel(nn.Module):\n",
    "#     def __init__(self, num_classes=6):\n",
    "#         super(CustomModel, self).__init__()\n",
    "\n",
    "#         # AlexNet-like architecture\n",
    "#         self.features = nn.Sequential(\n",
    "#             nn.Conv2d(3, 64, kernel_size=11, stride=4, padding=2),\n",
    "#             nn.ReLU(inplace=True),\n",
    "#             nn.MaxPool2d(kernel_size=3, stride=2),\n",
    "#             nn.Conv2d(64, 192, kernel_size=5, padding=2),\n",
    "#             nn.ReLU(inplace=True),\n",
    "#             nn.MaxPool2d(kernel_size=3, stride=2),\n",
    "#             nn.Conv2d(192, 384, kernel_size=3, padding=1),\n",
    "#             nn.ReLU(inplace=True),\n",
    "#             nn.Conv2d(384, 256, kernel_size=3, padding=1),\n",
    "#             nn.ReLU(inplace=True),\n",
    "#             nn.Conv2d(256, 256, kernel_size=3, padding=1),\n",
    "#             nn.ReLU(inplace=True),\n",
    "#             nn.MaxPool2d(kernel_size=3, stride=2),\n",
    "#         )\n",
    "\n",
    "#         # Residual blocks\n",
    "#         self.residual_blocks = nn.Sequential(\n",
    "#             ResidualBlock(256, 512),\n",
    "#             ResidualBlock(512, 512),\n",
    "#             nn.AdaptiveAvgPool2d((1, 1)),\n",
    "#         )\n",
    "\n",
    "#         # Fully connected layers\n",
    "#         self.fc = nn.Sequential(\n",
    "#             nn.Flatten(),\n",
    "#             nn.Linear(512, 256),\n",
    "#             nn.ReLU(inplace=True),\n",
    "#             nn.Dropout(0.5),\n",
    "#             nn.Linear(256, num_classes)\n",
    "#         )\n",
    "\n",
    "#     def forward(self, x):\n",
    "#         x = self.features(x)\n",
    "#         x = self.residual_blocks(x)\n",
    "#         x = self.fc(x)\n",
    "#         return x\n",
    "\n",
    "\n",
    "# class ResidualBlock(nn.Module):\n",
    "#     def __init__(self, in_channels, out_channels, stride=1):\n",
    "#         super(ResidualBlock, self).__init__()\n",
    "\n",
    "#         self.conv1 = nn.Conv2d(in_channels, out_channels, kernel_size=3, stride=stride, padding=1, bias=False)\n",
    "#         self.bn1 = nn.BatchNorm2d(out_channels)\n",
    "#         self.relu = nn.ReLU(inplace=True)\n",
    "#         self.conv2 = nn.Conv2d(out_channels, out_channels, kernel_size=3, stride=1, padding=1, bias=False)\n",
    "#         self.bn2 = nn.BatchNorm2d(out_channels)\n",
    "\n",
    "#         # Shortcut connection\n",
    "#         self.shortcut = nn.Sequential()\n",
    "#         if stride != 1 or in_channels != out_channels:\n",
    "#             self.shortcut = nn.Sequential(\n",
    "#                 nn.Conv2d(in_channels, out_channels, kernel_size=1, stride=stride, bias=False),\n",
    "#                 nn.BatchNorm2d(out_channels)\n",
    "#             )\n",
    "\n",
    "#     def forward(self, x):\n",
    "#         residual = x\n",
    "\n",
    "#         x = self.conv1(x)\n",
    "#         x = self.bn1(x)\n",
    "#         x = self.relu(x)\n",
    "#         x = self.conv2(x)\n",
    "#         x = self.bn2(x)\n",
    "\n",
    "#         x += self.shortcut(residual)\n",
    "#         x = self.relu(x)\n",
    "\n",
    "#         return x"
   ]
  },
  {
   "cell_type": "code",
   "execution_count": 10,
   "id": "27965a39",
   "metadata": {},
   "outputs": [],
   "source": [
    "class CustomModel(nn.Module):\n",
    "    def __init__(self, num_classes=6):\n",
    "        super(CustomModel, self).__init__()\n",
    "\n",
    "        # AlexNet-like architecture\n",
    "        self.features = nn.Sequential(\n",
    "            nn.Conv2d(3, 64, kernel_size=11, stride=4, padding=2),\n",
    "            nn.LeakyReLU(0.2, inplace=True),\n",
    "            nn.MaxPool2d(kernel_size=3, stride=2),\n",
    "            nn.Conv2d(64, 192, kernel_size=5, padding=2),\n",
    "            nn.LeakyReLU(0.2, inplace=True),\n",
    "            nn.MaxPool2d(kernel_size=3, stride=2),\n",
    "            nn.Conv2d(192, 384, kernel_size=3, padding=1),\n",
    "            nn.LeakyReLU(0.2, inplace=True),\n",
    "            nn.Conv2d(384, 256, kernel_size=3, padding=1),\n",
    "            nn.LeakyReLU(0.2, inplace=True),\n",
    "            nn.Conv2d(256, 256, kernel_size=3, padding=1),\n",
    "            nn.LeakyReLU(0.2, inplace=True),\n",
    "            nn.MaxPool2d(kernel_size=3, stride=2),\n",
    "        )\n",
    "\n",
    "        # Residual blocks\n",
    "        self.residual_blocks = nn.Sequential(\n",
    "            ResidualBlock(256, 512),\n",
    "            ResidualBlock(512, 512),\n",
    "        )\n",
    "\n",
    "        # Global Average Pooling\n",
    "        self.avgpool = nn.AdaptiveAvgPool2d((1, 1))\n",
    "\n",
    "        # Fully connected layers\n",
    "        self.fc = nn.Sequential(\n",
    "            nn.Flatten(),\n",
    "            nn.Linear(512, 256),\n",
    "            nn.LeakyReLU(0.2, inplace=True),\n",
    "            nn.Dropout(0.5),\n",
    "            nn.Linear(256, num_classes)\n",
    "        )\n",
    "\n",
    "    def forward(self, x):\n",
    "        x = self.features(x)\n",
    "        x = self.residual_blocks(x)\n",
    "        x = self.avgpool(x)\n",
    "        x = self.fc(x)\n",
    "        return x\n",
    "\n",
    "\n",
    "class ResidualBlock(nn.Module):\n",
    "    def __init__(self, in_channels, out_channels, stride=1):\n",
    "        super(ResidualBlock, self).__init__()\n",
    "\n",
    "        self.conv1 = nn.Conv2d(in_channels, out_channels, kernel_size=3, stride=stride, padding=1, bias=False)\n",
    "        self.bn1 = nn.BatchNorm2d(out_channels)\n",
    "        self.leaky_relu = nn.LeakyReLU(0.2, inplace=True)\n",
    "        self.conv2 = nn.Conv2d(out_channels, out_channels, kernel_size=3, stride=1, padding=1, bias=False)\n",
    "        self.bn2 = nn.BatchNorm2d(out_channels)\n",
    "\n",
    "        # Shortcut connection\n",
    "        self.shortcut = nn.Sequential()\n",
    "        if stride != 1 or in_channels != out_channels:\n",
    "            self.shortcut = nn.Sequential(\n",
    "                nn.Conv2d(in_channels, out_channels, kernel_size=1, stride=stride, bias=False),\n",
    "                nn.BatchNorm2d(out_channels)\n",
    "            )\n",
    "\n",
    "    def forward(self, x):\n",
    "        residual = x\n",
    "\n",
    "        x = self.conv1(x)\n",
    "        x = self.bn1(x)\n",
    "        x = self.leaky_relu(x)\n",
    "        x = self.conv2(x)\n",
    "        x = self.bn2(x)\n",
    "\n",
    "        x += self.shortcut(residual)\n",
    "        x = self.leaky_relu(x)\n",
    "\n",
    "        return x"
   ]
  },
  {
   "cell_type": "code",
   "execution_count": 11,
   "id": "4750263c",
   "metadata": {},
   "outputs": [],
   "source": [
    "# Instantiate the combined model\n",
    "combined_model = CustomModel()"
   ]
  },
  {
   "cell_type": "code",
   "execution_count": 12,
   "id": "e0a15a86",
   "metadata": {},
   "outputs": [
    {
     "data": {
      "text/plain": [
       "CustomModel(\n",
       "  (features): Sequential(\n",
       "    (0): Conv2d(3, 64, kernel_size=(11, 11), stride=(4, 4), padding=(2, 2))\n",
       "    (1): LeakyReLU(negative_slope=0.2, inplace=True)\n",
       "    (2): MaxPool2d(kernel_size=3, stride=2, padding=0, dilation=1, ceil_mode=False)\n",
       "    (3): Conv2d(64, 192, kernel_size=(5, 5), stride=(1, 1), padding=(2, 2))\n",
       "    (4): LeakyReLU(negative_slope=0.2, inplace=True)\n",
       "    (5): MaxPool2d(kernel_size=3, stride=2, padding=0, dilation=1, ceil_mode=False)\n",
       "    (6): Conv2d(192, 384, kernel_size=(3, 3), stride=(1, 1), padding=(1, 1))\n",
       "    (7): LeakyReLU(negative_slope=0.2, inplace=True)\n",
       "    (8): Conv2d(384, 256, kernel_size=(3, 3), stride=(1, 1), padding=(1, 1))\n",
       "    (9): LeakyReLU(negative_slope=0.2, inplace=True)\n",
       "    (10): Conv2d(256, 256, kernel_size=(3, 3), stride=(1, 1), padding=(1, 1))\n",
       "    (11): LeakyReLU(negative_slope=0.2, inplace=True)\n",
       "    (12): MaxPool2d(kernel_size=3, stride=2, padding=0, dilation=1, ceil_mode=False)\n",
       "  )\n",
       "  (residual_blocks): Sequential(\n",
       "    (0): ResidualBlock(\n",
       "      (conv1): Conv2d(256, 512, kernel_size=(3, 3), stride=(1, 1), padding=(1, 1), bias=False)\n",
       "      (bn1): BatchNorm2d(512, eps=1e-05, momentum=0.1, affine=True, track_running_stats=True)\n",
       "      (leaky_relu): LeakyReLU(negative_slope=0.2, inplace=True)\n",
       "      (conv2): Conv2d(512, 512, kernel_size=(3, 3), stride=(1, 1), padding=(1, 1), bias=False)\n",
       "      (bn2): BatchNorm2d(512, eps=1e-05, momentum=0.1, affine=True, track_running_stats=True)\n",
       "      (shortcut): Sequential(\n",
       "        (0): Conv2d(256, 512, kernel_size=(1, 1), stride=(1, 1), bias=False)\n",
       "        (1): BatchNorm2d(512, eps=1e-05, momentum=0.1, affine=True, track_running_stats=True)\n",
       "      )\n",
       "    )\n",
       "    (1): ResidualBlock(\n",
       "      (conv1): Conv2d(512, 512, kernel_size=(3, 3), stride=(1, 1), padding=(1, 1), bias=False)\n",
       "      (bn1): BatchNorm2d(512, eps=1e-05, momentum=0.1, affine=True, track_running_stats=True)\n",
       "      (leaky_relu): LeakyReLU(negative_slope=0.2, inplace=True)\n",
       "      (conv2): Conv2d(512, 512, kernel_size=(3, 3), stride=(1, 1), padding=(1, 1), bias=False)\n",
       "      (bn2): BatchNorm2d(512, eps=1e-05, momentum=0.1, affine=True, track_running_stats=True)\n",
       "      (shortcut): Sequential()\n",
       "    )\n",
       "  )\n",
       "  (avgpool): AdaptiveAvgPool2d(output_size=(1, 1))\n",
       "  (fc): Sequential(\n",
       "    (0): Flatten(start_dim=1, end_dim=-1)\n",
       "    (1): Linear(in_features=512, out_features=256, bias=True)\n",
       "    (2): LeakyReLU(negative_slope=0.2, inplace=True)\n",
       "    (3): Dropout(p=0.5, inplace=False)\n",
       "    (4): Linear(in_features=256, out_features=6, bias=True)\n",
       "  )\n",
       ")"
      ]
     },
     "execution_count": 12,
     "metadata": {},
     "output_type": "execute_result"
    }
   ],
   "source": [
    "combined_model.eval()"
   ]
  },
  {
   "cell_type": "code",
   "execution_count": 13,
   "id": "74a70c5a",
   "metadata": {},
   "outputs": [
    {
     "name": "stdout",
     "output_type": "stream",
     "text": [
      "Total parameters in the model: 10996294\n"
     ]
    }
   ],
   "source": [
    "# Count the total number of parameters\n",
    "total_params = sum(p.numel() for p in combined_model.parameters())\n",
    "print(f'Total parameters in the model: {total_params}')"
   ]
  },
  {
   "cell_type": "code",
   "execution_count": 14,
   "id": "4dbd4452",
   "metadata": {},
   "outputs": [],
   "source": [
    "# Move the model to the GPU\n",
    "model = combined_model.to(device)"
   ]
  },
  {
   "cell_type": "code",
   "execution_count": 15,
   "id": "6e684f77",
   "metadata": {},
   "outputs": [],
   "source": [
    "criterion = nn.CrossEntropyLoss()\n",
    "optimizer = torch.optim.Adam(model.parameters(), lr = 0.0001)"
   ]
  },
  {
   "cell_type": "code",
   "execution_count": 16,
   "id": "8caaafb3",
   "metadata": {
    "scrolled": true
   },
   "outputs": [
    {
     "name": "stdout",
     "output_type": "stream",
     "text": [
      "epoch: 1\n",
      "training loss: 0.0834, acc 0.3015\n",
      "validation loss: 0.0744, validation acc 0.4453\n",
      "time taken for epoch 1: 25.89 seconds\n",
      "epoch: 2\n",
      "training loss: 0.0745, acc 0.4067\n",
      "validation loss: 0.0964, validation acc 0.3584\n",
      "time taken for epoch 2: 21.73 seconds\n",
      "epoch: 3\n",
      "training loss: 0.0746, acc 0.4101\n",
      "validation loss: 0.0693, validation acc 0.4585\n",
      "time taken for epoch 3: 21.58 seconds\n",
      "epoch: 4\n",
      "training loss: 0.0705, acc 0.4417\n",
      "validation loss: 0.0655, validation acc 0.4967\n",
      "time taken for epoch 4: 21.02 seconds\n",
      "epoch: 5\n",
      "training loss: 0.0710, acc 0.4525\n",
      "validation loss: 0.0686, validation acc 0.4466\n",
      "time taken for epoch 5: 21.15 seconds\n",
      "epoch: 6\n",
      "training loss: 0.0667, acc 0.4813\n",
      "validation loss: 0.0602, validation acc 0.5534\n",
      "time taken for epoch 6: 21.40 seconds\n",
      "epoch: 7\n",
      "training loss: 0.0655, acc 0.5017\n",
      "validation loss: 0.0593, validation acc 0.5626\n",
      "time taken for epoch 7: 20.97 seconds\n",
      "epoch: 8\n",
      "training loss: 0.0631, acc 0.5271\n",
      "validation loss: 0.0598, validation acc 0.5534\n",
      "time taken for epoch 8: 21.13 seconds\n",
      "epoch: 9\n",
      "training loss: 0.0625, acc 0.5226\n",
      "validation loss: 0.0596, validation acc 0.5586\n",
      "time taken for epoch 9: 21.08 seconds\n",
      "epoch: 10\n",
      "training loss: 0.0605, acc 0.5441\n",
      "validation loss: 0.0516, validation acc 0.6047\n",
      "time taken for epoch 10: 21.06 seconds\n",
      "epoch: 11\n",
      "training loss: 0.0580, acc 0.5701\n",
      "validation loss: 0.0545, validation acc 0.5771\n",
      "time taken for epoch 11: 20.97 seconds\n",
      "epoch: 12\n",
      "training loss: 0.0558, acc 0.5916\n",
      "validation loss: 0.0528, validation acc 0.6021\n",
      "time taken for epoch 12: 21.05 seconds\n",
      "epoch: 13\n",
      "training loss: 0.0553, acc 0.5860\n",
      "validation loss: 0.0500, validation acc 0.6232\n",
      "time taken for epoch 13: 20.95 seconds\n",
      "epoch: 14\n",
      "training loss: 0.0539, acc 0.6018\n",
      "validation loss: 0.0490, validation acc 0.6206\n",
      "time taken for epoch 14: 21.31 seconds\n",
      "epoch: 15\n",
      "training loss: 0.0533, acc 0.6114\n",
      "validation loss: 0.0525, validation acc 0.6061\n",
      "time taken for epoch 15: 21.34 seconds\n",
      "epoch: 16\n",
      "training loss: 0.0503, acc 0.6380\n",
      "validation loss: 0.0493, validation acc 0.6390\n",
      "time taken for epoch 16: 21.34 seconds\n",
      "epoch: 17\n",
      "training loss: 0.0503, acc 0.6290\n",
      "validation loss: 0.0484, validation acc 0.6548\n",
      "time taken for epoch 17: 21.18 seconds\n",
      "epoch: 18\n",
      "training loss: 0.0497, acc 0.6391\n",
      "validation loss: 0.0494, validation acc 0.6311\n",
      "time taken for epoch 18: 21.25 seconds\n",
      "epoch: 19\n",
      "training loss: 0.0471, acc 0.6499\n",
      "validation loss: 0.0438, validation acc 0.6957\n",
      "time taken for epoch 19: 21.95 seconds\n",
      "epoch: 20\n",
      "training loss: 0.0468, acc 0.6629\n",
      "validation loss: 0.0525, validation acc 0.6298\n",
      "time taken for epoch 20: 21.23 seconds\n",
      "epoch: 21\n",
      "training loss: 0.0437, acc 0.6912\n",
      "validation loss: 0.0503, validation acc 0.6350\n",
      "time taken for epoch 21: 21.03 seconds\n",
      "epoch: 22\n",
      "training loss: 0.0444, acc 0.6793\n",
      "validation loss: 0.0448, validation acc 0.6864\n",
      "time taken for epoch 22: 21.16 seconds\n",
      "epoch: 23\n",
      "training loss: 0.0430, acc 0.6963\n",
      "validation loss: 0.0536, validation acc 0.6126\n",
      "time taken for epoch 23: 21.21 seconds\n",
      "epoch: 24\n",
      "training loss: 0.0402, acc 0.7042\n",
      "validation loss: 0.0423, validation acc 0.6798\n",
      "time taken for epoch 24: 21.62 seconds\n",
      "epoch: 25\n",
      "training loss: 0.0405, acc 0.7127\n",
      "validation loss: 0.0463, validation acc 0.6746\n",
      "time taken for epoch 25: 21.47 seconds\n",
      "epoch: 26\n",
      "training loss: 0.0379, acc 0.7251\n",
      "validation loss: 0.0423, validation acc 0.7009\n",
      "time taken for epoch 26: 21.24 seconds\n",
      "epoch: 27\n",
      "training loss: 0.0365, acc 0.7455\n",
      "validation loss: 0.0492, validation acc 0.6614\n",
      "time taken for epoch 27: 21.41 seconds\n",
      "epoch: 28\n",
      "training loss: 0.0367, acc 0.7381\n",
      "validation loss: 0.0406, validation acc 0.7036\n",
      "time taken for epoch 28: 21.57 seconds\n",
      "epoch: 29\n",
      "training loss: 0.0347, acc 0.7551\n",
      "validation loss: 0.0444, validation acc 0.7022\n",
      "time taken for epoch 29: 21.30 seconds\n",
      "epoch: 30\n",
      "training loss: 0.0355, acc 0.7494\n",
      "validation loss: 0.0434, validation acc 0.6838\n",
      "time taken for epoch 30: 21.20 seconds\n",
      "epoch: 31\n",
      "training loss: 0.0356, acc 0.7506\n",
      "validation loss: 0.0437, validation acc 0.7036\n",
      "time taken for epoch 31: 21.42 seconds\n",
      "epoch: 32\n",
      "training loss: 0.0296, acc 0.7766\n",
      "validation loss: 0.0432, validation acc 0.7075\n",
      "time taken for epoch 32: 21.08 seconds\n",
      "epoch: 33\n",
      "training loss: 0.0311, acc 0.7743\n",
      "validation loss: 0.0415, validation acc 0.7141\n",
      "time taken for epoch 33: 21.46 seconds\n",
      "epoch: 34\n",
      "training loss: 0.0292, acc 0.7902\n",
      "validation loss: 0.0420, validation acc 0.7233\n",
      "time taken for epoch 34: 21.08 seconds\n",
      "epoch: 35\n",
      "training loss: 0.0294, acc 0.7902\n",
      "validation loss: 0.0476, validation acc 0.6877\n",
      "time taken for epoch 35: 21.25 seconds\n",
      "Overall time taken for 35 epochs: 749.08 seconds\n",
      "Best epoch: 34, Best validation accuracy: 0.7233201861381531\n"
     ]
    }
   ],
   "source": [
    "epochs = 35\n",
    "running_loss_history = []\n",
    "running_corrects_history = []\n",
    "val_running_loss_history = []\n",
    "val_running_corrects_history = []\n",
    "\n",
    "best_val_acc = 0.0\n",
    "best_epoch = 0\n",
    "patience = 6  # Adjust this value based on your preference\n",
    "\n",
    "overall_start_time = time.time()  # Record the start time for the entire training process\n",
    "\n",
    "for e in range(epochs):\n",
    "  \n",
    "    start_time = time.time()  # Record the start time for the epoch\n",
    "\n",
    "    running_loss = 0.0\n",
    "    running_corrects = 0.0\n",
    "    val_running_loss = 0.0\n",
    "    val_running_corrects = 0.0\n",
    "\n",
    "    # Training loop\n",
    "    model.train()\n",
    "    for inputs, labels in training_loader:\n",
    "        inputs = inputs.to(device)\n",
    "        labels = labels.to(device)\n",
    "        outputs = model(inputs)\n",
    "        loss = criterion(outputs, labels)\n",
    "        \n",
    "        optimizer.zero_grad()\n",
    "        loss.backward()\n",
    "        optimizer.step()\n",
    "        \n",
    "        _, preds = torch.max(outputs, 1)\n",
    "        running_loss += loss.item()\n",
    "        running_corrects += torch.sum(preds == labels.data)\n",
    "\n",
    "    else:\n",
    "        with torch.no_grad():\n",
    "            # Validation loop\n",
    "            model.eval()\n",
    "            for val_inputs, val_labels in validation_loader:\n",
    "                val_inputs = val_inputs.to(device)\n",
    "                val_labels = val_labels.to(device)\n",
    "                val_outputs = model(val_inputs)\n",
    "                val_loss = criterion(val_outputs, val_labels)\n",
    "                \n",
    "                _, val_preds = torch.max(val_outputs, 1)\n",
    "                val_running_loss += val_loss.item()\n",
    "                val_running_corrects += torch.sum(val_preds == val_labels.data)\n",
    "            \n",
    "        epoch_loss = running_loss / len(training_loader.dataset)\n",
    "        epoch_acc = running_corrects.float() / len(training_loader.dataset)\n",
    "        running_loss_history.append(epoch_loss)\n",
    "        running_corrects_history.append(epoch_acc)\n",
    "        \n",
    "        val_epoch_loss = val_running_loss / len(validation_loader.dataset)\n",
    "        val_epoch_acc = val_running_corrects.float() / len(validation_loader.dataset)\n",
    "        val_running_loss_history.append(val_epoch_loss)\n",
    "        val_running_corrects_history.append(val_epoch_acc)\n",
    "        \n",
    "        end_time = time.time()  # Record the end time for the epoch\n",
    "        epoch_time = end_time - start_time  # Calculate the time taken for the epoch\n",
    "\n",
    "        print('epoch:', (e+1))\n",
    "        print('training loss: {:.4f}, acc {:.4f}'.format(epoch_loss, epoch_acc.item()))\n",
    "        print('validation loss: {:.4f}, validation acc {:.4f}'.format(val_epoch_loss, val_epoch_acc.item()))\n",
    "        print('time taken for epoch {}: {:.2f} seconds'.format(e+1, epoch_time))\n",
    "\n",
    "        # Check for early stopping\n",
    "        if val_epoch_acc > best_val_acc:\n",
    "            best_val_acc = val_epoch_acc\n",
    "            best_epoch = e + 1  # Epochs are 1-indexed\n",
    "\n",
    "        if e - best_epoch >= patience:\n",
    "            print(f'Early stopping at epoch {e+1}. No improvement in validation accuracy.')\n",
    "            break\n",
    "\n",
    "overall_end_time = time.time()  # Record the end time for the entire training process\n",
    "overall_time = overall_end_time - overall_start_time  # Calculate the overall time taken\n",
    "print('Overall time taken for {} epochs: {:.2f} seconds'.format(epochs, overall_time))\n",
    "print(f'Best epoch: {best_epoch}, Best validation accuracy: {best_val_acc.item()}')"
   ]
  },
  {
   "cell_type": "code",
   "execution_count": 17,
   "id": "5849df68",
   "metadata": {},
   "outputs": [
    {
     "data": {
      "image/png": "[encoded data removed]",
      "text/plain": [
       "<Figure size 640x480 with 1 Axes>"
      ]
     },
     "metadata": {},
     "output_type": "display_data"
    }
   ],
   "source": [
    "plt.plot(running_loss_history, label='training loss')\n",
    "plt.plot(val_running_loss_history, label='validation loss')\n",
    "plt.legend()\n",
    "plt.show()"
   ]
  },
  {
   "cell_type": "code",
   "execution_count": 18,
   "id": "e2bc6bc6",
   "metadata": {},
   "outputs": [
    {
     "data": {
      "image/png": "[encoded data removed]",
      "text/plain": [
       "<Figure size 640x480 with 1 Axes>"
      ]
     },
     "metadata": {},
     "output_type": "display_data"
    }
   ],
   "source": [
    "# Convert tensors to NumPy arrays and then to Python lists\n",
    "running_corrects_history_list = [tensor.item() for tensor in running_corrects_history]\n",
    "val_running_corrects_history_list = [tensor.item() for tensor in val_running_corrects_history]\n",
    "\n",
    "# Plotting accuracy curves\n",
    "plt.plot(running_corrects_history_list, label='training accuracy')\n",
    "plt.plot(val_running_corrects_history_list, label='validation accuracy')\n",
    "plt.legend()\n",
    "plt.show()"
   ]
  },
  {
   "cell_type": "code",
   "execution_count": 19,
   "id": "0549785e",
   "metadata": {},
   "outputs": [],
   "source": [
    "from sklearn.metrics import confusion_matrix, precision_score, recall_score, f1_score"
   ]
  },
  {
   "cell_type": "code",
   "execution_count": 20,
   "id": "154605c9",
   "metadata": {},
   "outputs": [],
   "source": [
    "# Initialize empty lists to store true labels and predicted labels\n",
    "all_labels = []\n",
    "all_preds = []\n",
    "\n",
    "for inputs, labels in training_loader:\n",
    "    inputs = inputs.to(device)\n",
    "    labels = labels.to(device)\n",
    "    outputs = model(inputs)\n",
    "    \n",
    "    _, preds = torch.max(outputs, 1)\n",
    "    \n",
    "    all_labels.extend(labels.cpu().numpy())\n",
    "    all_preds.extend(preds.cpu().numpy())"
   ]
  },
  {
   "cell_type": "code",
   "execution_count": 21,
   "id": "e332aba4",
   "metadata": {},
   "outputs": [
    {
     "name": "stdout",
     "output_type": "stream",
     "text": [
      "Confusion Matrix:\n",
      "[[206  14  21  11  14  21]\n",
      " [  2 316  13   5  12   6]\n",
      " [  2  50 214  10   9   1]\n",
      " [  3  17  12 356   7   8]\n",
      " [  2  50  10  20 259   6]\n",
      " [  0  11   4   1   5  70]]\n",
      "\n",
      "Precision for each class:\n",
      "cardboard: 0.9581\n",
      "glass: 0.6900\n",
      "metal: 0.7810\n",
      "paper: 0.8834\n",
      "plastic: 0.8464\n",
      "trash: 0.6250\n",
      "\n",
      "Recall for each class:\n",
      "cardboard: 0.7178\n",
      "glass: 0.8927\n",
      "metal: 0.7483\n",
      "paper: 0.8834\n",
      "plastic: 0.7464\n",
      "trash: 0.7692\n"
     ]
    }
   ],
   "source": [
    "# Calculate the confusion matrix\n",
    "conf_matrix = confusion_matrix(all_labels, all_preds)\n",
    "\n",
    "# Calculate precision and recall for each class\n",
    "precision = precision_score(all_labels, all_preds, average=None)\n",
    "recall = recall_score(all_labels, all_preds, average=None)\n",
    "\n",
    "# Print confusion matrix, precision, and recall for each class\n",
    "print('Confusion Matrix:')\n",
    "print(conf_matrix)\n",
    "\n",
    "# Print precision for each class\n",
    "print('\\nPrecision for each class:')\n",
    "for i in range(len(classes)):\n",
    "    print('{}: {:.4f}'.format(classes[i], precision[i]))\n",
    "\n",
    "# Print recall for each class\n",
    "print('\\nRecall for each class:')\n",
    "for i in range(len(classes)):\n",
    "    print('{}: {:.4f}'.format(classes[i], recall[i]))"
   ]
  },
  {
   "cell_type": "code",
   "execution_count": 22,
   "id": "175790a6",
   "metadata": {},
   "outputs": [
    {
     "data": {
      "image/png": "[encoded data removed]",
      "text/plain": [
       "<Figure size 800x600 with 2 Axes>"
      ]
     },
     "metadata": {},
     "output_type": "display_data"
    }
   ],
   "source": [
    "import seaborn as sns\n",
    "\n",
    "# Normalize the confusion matrix\n",
    "conf_matrix = conf_matrix.astype('float') / conf_matrix.sum(axis=1)[:, np.newaxis]\n",
    "\n",
    "# Create a heatmap using seaborn\n",
    "plt.figure(figsize=(8, 6))\n",
    "sns.heatmap(conf_matrix, annot=True, fmt=\".2f\", cmap=\"Blues\",\n",
    "            xticklabels=np.unique(all_labels),\n",
    "            yticklabels=np.unique(all_labels))\n",
    "plt.title(\"Normalized Confusion Matrix\")\n",
    "plt.xlabel(\"Predicted\")\n",
    "plt.ylabel(\"True\")\n",
    "plt.show()"
   ]
  },
  {
   "cell_type": "code",
   "execution_count": 23,
   "id": "a29d03e1",
   "metadata": {},
   "outputs": [
    {
     "name": "stdout",
     "output_type": "stream",
     "text": [
      "\n",
      "Overall Precision: 0.8197\n"
     ]
    }
   ],
   "source": [
    "# Calculate overall precision\n",
    "overall_precision = precision_score(all_labels, all_preds, average='weighted')\n",
    "\n",
    "# Print overall precision\n",
    "print('\\nOverall Precision: {:.4f}'.format(overall_precision))"
   ]
  },
  {
   "cell_type": "code",
   "execution_count": 24,
   "id": "d4b7276c",
   "metadata": {},
   "outputs": [
    {
     "name": "stdout",
     "output_type": "stream",
     "text": [
      "\n",
      "Overall Recall: 0.8037\n",
      "Overall F1 Score: 0.8052\n"
     ]
    }
   ],
   "source": [
    "# Calculate overall recall\n",
    "overall_recall = recall_score(all_labels, all_preds, average='weighted')\n",
    "\n",
    "# Calculate overall F1 score\n",
    "overall_f1 = f1_score(all_labels, all_preds, average='weighted')\n",
    "\n",
    "# Print overall recall and F1 score\n",
    "print('\\nOverall Recall: {:.4f}'.format(overall_recall))\n",
    "print('Overall F1 Score: {:.4f}'.format(overall_f1))"
   ]
  },
  {
   "cell_type": "code",
   "execution_count": 25,
   "id": "ee1151fa",
   "metadata": {},
   "outputs": [],
   "source": [
    "# Initialize empty lists to store true labels and predicted labels\n",
    "all_labels_t = []\n",
    "all_preds_t = []\n",
    "\n",
    "for inputs, labels in validation_loader:\n",
    "    inputs = inputs.to(device)\n",
    "    labels = labels.to(device)\n",
    "    outputs = model(inputs)\n",
    "    \n",
    "    _, preds = torch.max(outputs, 1)\n",
    "    \n",
    "    all_labels_t.extend(labels.cpu().numpy())\n",
    "    all_preds_t.extend(preds.cpu().numpy())"
   ]
  },
  {
   "cell_type": "code",
   "execution_count": 26,
   "id": "b128f2d3",
   "metadata": {},
   "outputs": [
    {
     "name": "stdout",
     "output_type": "stream",
     "text": [
      "Confusion Matrix:\n",
      "[[ 78   9   7   7   7   8]\n",
      " [  0 125   9   3   8   2]\n",
      " [  1  23  83   9   5   3]\n",
      " [  2  18   9 136  10  16]\n",
      " [  2  32  11   9  72   9]\n",
      " [  0  10   5   2   1  28]]\n",
      "\n",
      "Precision for each class:\n",
      "cardboard: 0.9398\n",
      "glass: 0.5760\n",
      "metal: 0.6694\n",
      "paper: 0.8193\n",
      "plastic: 0.6990\n",
      "trash: 0.4242\n",
      "\n",
      "Recall for each class:\n",
      "cardboard: 0.6724\n",
      "glass: 0.8503\n",
      "metal: 0.6694\n",
      "paper: 0.7120\n",
      "plastic: 0.5333\n",
      "trash: 0.6087\n"
     ]
    }
   ],
   "source": [
    "# Calculate the confusion matrix\n",
    "conf_matrix = confusion_matrix(all_labels_t, all_preds_t)\n",
    "\n",
    "# Calculate precision and recall for each class\n",
    "precision = precision_score(all_labels_t, all_preds_t, average=None)\n",
    "recall = recall_score(all_labels_t, all_preds_t, average=None)\n",
    "\n",
    "# Print confusion matrix, precision, and recall for each class\n",
    "print('Confusion Matrix:')\n",
    "print(conf_matrix)\n",
    "\n",
    "# Print precision for each class\n",
    "print('\\nPrecision for each class:')\n",
    "for i in range(len(classes)):\n",
    "    print('{}: {:.4f}'.format(classes[i], precision[i]))\n",
    "\n",
    "# Print recall for each class\n",
    "print('\\nRecall for each class:')\n",
    "for i in range(len(classes)):\n",
    "    print('{}: {:.4f}'.format(classes[i], recall[i]))"
   ]
  },
  {
   "cell_type": "code",
   "execution_count": 27,
   "id": "9be687e9",
   "metadata": {},
   "outputs": [
    {
     "data": {
      "image/png": "[encoded data removed]",
      "text/plain": [
       "<Figure size 800x600 with 2 Axes>"
      ]
     },
     "metadata": {},
     "output_type": "display_data"
    }
   ],
   "source": [
    "import seaborn as sns\n",
    "\n",
    "# Normalize the confusion matrix\n",
    "conf_matrix = conf_matrix.astype('float') / conf_matrix.sum(axis=1)[:, np.newaxis]\n",
    "\n",
    "# Create a heatmap using seaborn\n",
    "plt.figure(figsize=(8, 6))\n",
    "sns.heatmap(conf_matrix, annot=True, fmt=\".2f\", cmap=\"Blues\",\n",
    "            xticklabels=np.unique(all_labels_t),\n",
    "            yticklabels=np.unique(all_labels_t))\n",
    "plt.title(\"Normalized Confusion Matrix\")\n",
    "plt.xlabel(\"Predicted\")\n",
    "plt.ylabel(\"True\")\n",
    "plt.show()"
   ]
  },
  {
   "cell_type": "code",
   "execution_count": 28,
   "id": "9cd5b5b3",
   "metadata": {},
   "outputs": [
    {
     "name": "stdout",
     "output_type": "stream",
     "text": [
      "\n",
      "Overall Precision: 0.7208\n"
     ]
    }
   ],
   "source": [
    "# Calculate overall precision\n",
    "overall_precision = precision_score(all_labels_t, all_preds_t, average='weighted')\n",
    "\n",
    "# Print overall precision\n",
    "print('\\nOverall Precision: {:.4f}'.format(overall_precision))"
   ]
  },
  {
   "cell_type": "code",
   "execution_count": 29,
   "id": "e702689b",
   "metadata": {},
   "outputs": [
    {
     "name": "stdout",
     "output_type": "stream",
     "text": [
      "\n",
      "Overall Recall: 0.6877\n",
      "Overall F1 Score: 0.6918\n"
     ]
    }
   ],
   "source": [
    "# Calculate overall recall\n",
    "overall_recall = recall_score(all_labels_t, all_preds_t, average='weighted')\n",
    "\n",
    "# Calculate overall F1 score\n",
    "overall_f1 = f1_score(all_labels_t, all_preds_t, average='weighted')\n",
    "\n",
    "# Print overall recall and F1 score\n",
    "print('\\nOverall Recall: {:.4f}'.format(overall_recall))\n",
    "print('Overall F1 Score: {:.4f}'.format(overall_f1))"
   ]
  },
  {
   "cell_type": "code",
   "execution_count": null,
   "id": "795e6ac2",
   "metadata": {},
   "outputs": [],
   "source": []
  },
  {
   "cell_type": "code",
   "execution_count": null,
   "id": "8d010e29",
   "metadata": {},
   "outputs": [],
   "source": []
  }
 ],
 "metadata": {
  "kernelspec": {
   "display_name": "mygpu",
   "language": "python",
   "name": "mygpu"
  },
  "language_info": {
   "codemirror_mode": {
    "name": "ipython",
    "version": 3
   },
   "file_extension": ".py",
   "mimetype": "text/x-python",
   "name": "python",
   "nbconvert_exporter": "python",
   "pygments_lexer": "ipython3",
   "version": "3.11.5"
  }
 },
 "nbformat": 4,
 "nbformat_minor": 5
}
